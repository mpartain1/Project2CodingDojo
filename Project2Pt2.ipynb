{
  "nbformat": 4,
  "nbformat_minor": 0,
  "metadata": {
    "colab": {
      "name": "Project2Pt2.ipynb",
      "provenance": [],
      "collapsed_sections": [],
      "mount_file_id": "1hL3jXGjTGhp6zaIA1M061xtTVX2Rgy6q",
      "authorship_tag": "ABX9TyMLdFWfz6PrP/RNBxO0nyYy",
      "include_colab_link": true
    },
    "kernelspec": {
      "name": "python3",
      "display_name": "Python 3"
    },
    "language_info": {
      "name": "python"
    }
  },
  "cells": [
    {
      "cell_type": "markdown",
      "metadata": {
        "id": "view-in-github",
        "colab_type": "text"
      },
      "source": [
        "<a href=\"https://colab.research.google.com/github/mpartain1/Project2CodingDojo/blob/main/Project2Pt2.ipynb\" target=\"_parent\"><img src=\"https://colab.research.google.com/assets/colab-badge.svg\" alt=\"Open In Colab\"/></a>"
      ]
    },
    {
      "cell_type": "code",
      "execution_count": 10,
      "metadata": {
        "colab": {
          "base_uri": "https://localhost:8080/",
          "height": 305
        },
        "id": "E19gilksSJlb",
        "outputId": "898e8ff3-dc8d-46f7-adeb-a51f24d46495"
      },
      "outputs": [
        {
          "output_type": "execute_result",
          "data": {
            "text/plain": [
              "   fixed acidity  volatile acidity  citric acid  residual sugar  chlorides  \\\n",
              "0            7.4              0.70         0.00             1.9      0.076   \n",
              "1            7.8              0.88         0.00             2.6      0.098   \n",
              "2            7.8              0.76         0.04             2.3      0.092   \n",
              "3           11.2              0.28         0.56             1.9      0.075   \n",
              "4            7.4              0.70         0.00             1.9      0.076   \n",
              "\n",
              "   free sulfur dioxide  total sulfur dioxide  density    pH  sulphates  \\\n",
              "0                 11.0                  34.0   0.9978  3.51       0.56   \n",
              "1                 25.0                  67.0   0.9968  3.20       0.68   \n",
              "2                 15.0                  54.0   0.9970  3.26       0.65   \n",
              "3                 17.0                  60.0   0.9980  3.16       0.58   \n",
              "4                 11.0                  34.0   0.9978  3.51       0.56   \n",
              "\n",
              "   alcohol  quality  \n",
              "0      9.4        5  \n",
              "1      9.8        5  \n",
              "2      9.8        5  \n",
              "3      9.8        6  \n",
              "4      9.4        5  "
            ],
            "text/html": [
              "\n",
              "  <div id=\"df-42000bc5-815e-4a81-953a-ac45586fda7d\">\n",
              "    <div class=\"colab-df-container\">\n",
              "      <div>\n",
              "<style scoped>\n",
              "    .dataframe tbody tr th:only-of-type {\n",
              "        vertical-align: middle;\n",
              "    }\n",
              "\n",
              "    .dataframe tbody tr th {\n",
              "        vertical-align: top;\n",
              "    }\n",
              "\n",
              "    .dataframe thead th {\n",
              "        text-align: right;\n",
              "    }\n",
              "</style>\n",
              "<table border=\"1\" class=\"dataframe\">\n",
              "  <thead>\n",
              "    <tr style=\"text-align: right;\">\n",
              "      <th></th>\n",
              "      <th>fixed acidity</th>\n",
              "      <th>volatile acidity</th>\n",
              "      <th>citric acid</th>\n",
              "      <th>residual sugar</th>\n",
              "      <th>chlorides</th>\n",
              "      <th>free sulfur dioxide</th>\n",
              "      <th>total sulfur dioxide</th>\n",
              "      <th>density</th>\n",
              "      <th>pH</th>\n",
              "      <th>sulphates</th>\n",
              "      <th>alcohol</th>\n",
              "      <th>quality</th>\n",
              "    </tr>\n",
              "  </thead>\n",
              "  <tbody>\n",
              "    <tr>\n",
              "      <th>0</th>\n",
              "      <td>7.4</td>\n",
              "      <td>0.70</td>\n",
              "      <td>0.00</td>\n",
              "      <td>1.9</td>\n",
              "      <td>0.076</td>\n",
              "      <td>11.0</td>\n",
              "      <td>34.0</td>\n",
              "      <td>0.9978</td>\n",
              "      <td>3.51</td>\n",
              "      <td>0.56</td>\n",
              "      <td>9.4</td>\n",
              "      <td>5</td>\n",
              "    </tr>\n",
              "    <tr>\n",
              "      <th>1</th>\n",
              "      <td>7.8</td>\n",
              "      <td>0.88</td>\n",
              "      <td>0.00</td>\n",
              "      <td>2.6</td>\n",
              "      <td>0.098</td>\n",
              "      <td>25.0</td>\n",
              "      <td>67.0</td>\n",
              "      <td>0.9968</td>\n",
              "      <td>3.20</td>\n",
              "      <td>0.68</td>\n",
              "      <td>9.8</td>\n",
              "      <td>5</td>\n",
              "    </tr>\n",
              "    <tr>\n",
              "      <th>2</th>\n",
              "      <td>7.8</td>\n",
              "      <td>0.76</td>\n",
              "      <td>0.04</td>\n",
              "      <td>2.3</td>\n",
              "      <td>0.092</td>\n",
              "      <td>15.0</td>\n",
              "      <td>54.0</td>\n",
              "      <td>0.9970</td>\n",
              "      <td>3.26</td>\n",
              "      <td>0.65</td>\n",
              "      <td>9.8</td>\n",
              "      <td>5</td>\n",
              "    </tr>\n",
              "    <tr>\n",
              "      <th>3</th>\n",
              "      <td>11.2</td>\n",
              "      <td>0.28</td>\n",
              "      <td>0.56</td>\n",
              "      <td>1.9</td>\n",
              "      <td>0.075</td>\n",
              "      <td>17.0</td>\n",
              "      <td>60.0</td>\n",
              "      <td>0.9980</td>\n",
              "      <td>3.16</td>\n",
              "      <td>0.58</td>\n",
              "      <td>9.8</td>\n",
              "      <td>6</td>\n",
              "    </tr>\n",
              "    <tr>\n",
              "      <th>4</th>\n",
              "      <td>7.4</td>\n",
              "      <td>0.70</td>\n",
              "      <td>0.00</td>\n",
              "      <td>1.9</td>\n",
              "      <td>0.076</td>\n",
              "      <td>11.0</td>\n",
              "      <td>34.0</td>\n",
              "      <td>0.9978</td>\n",
              "      <td>3.51</td>\n",
              "      <td>0.56</td>\n",
              "      <td>9.4</td>\n",
              "      <td>5</td>\n",
              "    </tr>\n",
              "  </tbody>\n",
              "</table>\n",
              "</div>\n",
              "      <button class=\"colab-df-convert\" onclick=\"convertToInteractive('df-42000bc5-815e-4a81-953a-ac45586fda7d')\"\n",
              "              title=\"Convert this dataframe to an interactive table.\"\n",
              "              style=\"display:none;\">\n",
              "        \n",
              "  <svg xmlns=\"http://www.w3.org/2000/svg\" height=\"24px\"viewBox=\"0 0 24 24\"\n",
              "       width=\"24px\">\n",
              "    <path d=\"M0 0h24v24H0V0z\" fill=\"none\"/>\n",
              "    <path d=\"M18.56 5.44l.94 2.06.94-2.06 2.06-.94-2.06-.94-.94-2.06-.94 2.06-2.06.94zm-11 1L8.5 8.5l.94-2.06 2.06-.94-2.06-.94L8.5 2.5l-.94 2.06-2.06.94zm10 10l.94 2.06.94-2.06 2.06-.94-2.06-.94-.94-2.06-.94 2.06-2.06.94z\"/><path d=\"M17.41 7.96l-1.37-1.37c-.4-.4-.92-.59-1.43-.59-.52 0-1.04.2-1.43.59L10.3 9.45l-7.72 7.72c-.78.78-.78 2.05 0 2.83L4 21.41c.39.39.9.59 1.41.59.51 0 1.02-.2 1.41-.59l7.78-7.78 2.81-2.81c.8-.78.8-2.07 0-2.86zM5.41 20L4 18.59l7.72-7.72 1.47 1.35L5.41 20z\"/>\n",
              "  </svg>\n",
              "      </button>\n",
              "      \n",
              "  <style>\n",
              "    .colab-df-container {\n",
              "      display:flex;\n",
              "      flex-wrap:wrap;\n",
              "      gap: 12px;\n",
              "    }\n",
              "\n",
              "    .colab-df-convert {\n",
              "      background-color: #E8F0FE;\n",
              "      border: none;\n",
              "      border-radius: 50%;\n",
              "      cursor: pointer;\n",
              "      display: none;\n",
              "      fill: #1967D2;\n",
              "      height: 32px;\n",
              "      padding: 0 0 0 0;\n",
              "      width: 32px;\n",
              "    }\n",
              "\n",
              "    .colab-df-convert:hover {\n",
              "      background-color: #E2EBFA;\n",
              "      box-shadow: 0px 1px 2px rgba(60, 64, 67, 0.3), 0px 1px 3px 1px rgba(60, 64, 67, 0.15);\n",
              "      fill: #174EA6;\n",
              "    }\n",
              "\n",
              "    [theme=dark] .colab-df-convert {\n",
              "      background-color: #3B4455;\n",
              "      fill: #D2E3FC;\n",
              "    }\n",
              "\n",
              "    [theme=dark] .colab-df-convert:hover {\n",
              "      background-color: #434B5C;\n",
              "      box-shadow: 0px 1px 3px 1px rgba(0, 0, 0, 0.15);\n",
              "      filter: drop-shadow(0px 1px 2px rgba(0, 0, 0, 0.3));\n",
              "      fill: #FFFFFF;\n",
              "    }\n",
              "  </style>\n",
              "\n",
              "      <script>\n",
              "        const buttonEl =\n",
              "          document.querySelector('#df-42000bc5-815e-4a81-953a-ac45586fda7d button.colab-df-convert');\n",
              "        buttonEl.style.display =\n",
              "          google.colab.kernel.accessAllowed ? 'block' : 'none';\n",
              "\n",
              "        async function convertToInteractive(key) {\n",
              "          const element = document.querySelector('#df-42000bc5-815e-4a81-953a-ac45586fda7d');\n",
              "          const dataTable =\n",
              "            await google.colab.kernel.invokeFunction('convertToInteractive',\n",
              "                                                     [key], {});\n",
              "          if (!dataTable) return;\n",
              "\n",
              "          const docLinkHtml = 'Like what you see? Visit the ' +\n",
              "            '<a target=\"_blank\" href=https://colab.research.google.com/notebooks/data_table.ipynb>data table notebook</a>'\n",
              "            + ' to learn more about interactive tables.';\n",
              "          element.innerHTML = '';\n",
              "          dataTable['output_type'] = 'display_data';\n",
              "          await google.colab.output.renderOutput(dataTable, element);\n",
              "          const docLink = document.createElement('div');\n",
              "          docLink.innerHTML = docLinkHtml;\n",
              "          element.appendChild(docLink);\n",
              "        }\n",
              "      </script>\n",
              "    </div>\n",
              "  </div>\n",
              "  "
            ]
          },
          "metadata": {},
          "execution_count": 10
        }
      ],
      "source": [
        "#Data Set 1\n",
        "#Source of Data: UCI Machine Learning Repository\n",
        "\n",
        "#This data set relates to the quality of \"Vinho Verde\" red wine.  It contains attributes such as fixed acidity, \n",
        "#chlorides, and residual sugar.\n",
        "\n",
        "#The target is quality (score between 0 and 10)\n",
        "\n",
        "#This is a regression problem\n",
        "\n",
        "#12 features\n",
        "\n",
        "#4898 rows of data\n",
        "\n",
        "#Challenge could be trying to assess the most influential factors that predict wine quality.\n",
        "import pandas as pd\n",
        "import matplotlib.pyplot as plt\n",
        "import seaborn as sns\n",
        "import numpy as np\n",
        "df = pd.read_csv('/content/winequality-red.csv', sep = ';')\n",
        "df.head()"
      ]
    },
    {
      "cell_type": "markdown",
      "source": [
        "No unnecessary columns to delete"
      ],
      "metadata": {
        "id": "c0u-_wABe8J0"
      }
    },
    {
      "cell_type": "code",
      "source": [
        "df.drop_duplicates(inplace=True, keep = 'first')"
      ],
      "metadata": {
        "id": "cva_uOV4UUY2"
      },
      "execution_count": 11,
      "outputs": []
    },
    {
      "cell_type": "code",
      "source": [
        "df.isna().sum()"
      ],
      "metadata": {
        "colab": {
          "base_uri": "https://localhost:8080/"
        },
        "id": "l8QSolKTfKLc",
        "outputId": "e47a6dc5-26c0-40ac-9cae-67a900c1fb55"
      },
      "execution_count": 8,
      "outputs": [
        {
          "output_type": "execute_result",
          "data": {
            "text/plain": [
              "fixed acidity           0\n",
              "volatile acidity        0\n",
              "citric acid             0\n",
              "residual sugar          0\n",
              "chlorides               0\n",
              "free sulfur dioxide     0\n",
              "total sulfur dioxide    0\n",
              "density                 0\n",
              "pH                      0\n",
              "sulphates               0\n",
              "alcohol                 0\n",
              "quality                 0\n",
              "dtype: int64"
            ]
          },
          "metadata": {},
          "execution_count": 8
        }
      ]
    },
    {
      "cell_type": "markdown",
      "source": [
        "No NA values"
      ],
      "metadata": {
        "id": "9AElV76Efylc"
      }
    },
    {
      "cell_type": "markdown",
      "source": [
        "No categorical values to address inconcistencies for"
      ],
      "metadata": {
        "id": "pWyWbzppf75w"
      }
    },
    {
      "cell_type": "markdown",
      "source": [
        "Below are univariate visualizations of the columns.\n"
      ],
      "metadata": {
        "id": "EOJaT20Nk35N"
      }
    },
    {
      "cell_type": "code",
      "source": [
        "upper_outlier_value = 1.5*(df['fixed acidity'].describe()[6]-df['fixed acidity'].describe()[4]) + df['fixed acidity'].describe()[6]\n",
        "lower_outlier_value =  df['fixed acidity'].describe()[4]-1.5*(df['fixed acidity'].describe()[6]-df['fixed acidity'].describe()[4])\n",
        "upper_outliers = pd.DataFrame(df.loc[df['fixed acidity']>upper_outlier_value, 'fixed acidity'].sort_values(ascending=True))\n",
        "lower_outliers = pd.DataFrame(df.loc[df['fixed acidity']<lower_outlier_value, 'fixed acidity'].sort_values(ascending=True))\n",
        "print(f'Upper Outliers:\\n {upper_outliers}')\n",
        "print(f'Lower Outliers:\\n {lower_outliers}')\n",
        "plt.style.use('ggplot')\n",
        "plt.boxplot(df['fixed acidity'])\n"
      ],
      "metadata": {
        "colab": {
          "base_uri": "https://localhost:8080/",
          "height": 1000
        },
        "id": "MsWCyGu4fxPj",
        "outputId": "1cd8279e-e144-419d-c320-52d975d59a33"
      },
      "execution_count": 54,
      "outputs": [
        {
          "output_type": "stream",
          "name": "stdout",
          "text": [
            "Upper Outliers:\n",
            "       fixed acidity\n",
            "596            12.4\n",
            "338            12.4\n",
            "548            12.4\n",
            "510            12.4\n",
            "516            12.5\n",
            "409            12.5\n",
            "264            12.5\n",
            "339            12.5\n",
            "446            12.5\n",
            "472            12.5\n",
            "363            12.5\n",
            "814            12.6\n",
            "1224           12.6\n",
            "359            12.6\n",
            "440            12.6\n",
            "560            12.7\n",
            "394            12.7\n",
            "599            12.7\n",
            "205            12.8\n",
            "429            12.8\n",
            "364            12.8\n",
            "811            12.9\n",
            "538            12.9\n",
            "559            13.0\n",
            "470            13.0\n",
            "601            13.2\n",
            "611            13.2\n",
            "509            13.3\n",
            "294            13.3\n",
            "680            13.3\n",
            "328            13.4\n",
            "353            13.5\n",
            "381            13.7\n",
            "347            13.8\n",
            "374            14.0\n",
            "544            14.3\n",
            "243            15.0\n",
            "554            15.5\n",
            "442            15.6\n",
            "557            15.6\n",
            "652            15.9\n",
            "Lower Outliers:\n",
            " Empty DataFrame\n",
            "Columns: [fixed acidity]\n",
            "Index: []\n"
          ]
        },
        {
          "output_type": "execute_result",
          "data": {
            "text/plain": [
              "{'boxes': [<matplotlib.lines.Line2D at 0x7f32275a6450>],\n",
              " 'caps': [<matplotlib.lines.Line2D at 0x7f32275ac490>,\n",
              "  <matplotlib.lines.Line2D at 0x7f32275ac9d0>],\n",
              " 'fliers': [<matplotlib.lines.Line2D at 0x7f32275344d0>],\n",
              " 'means': [],\n",
              " 'medians': [<matplotlib.lines.Line2D at 0x7f32275acf50>],\n",
              " 'whiskers': [<matplotlib.lines.Line2D at 0x7f32275a69d0>,\n",
              "  <matplotlib.lines.Line2D at 0x7f32275a6f10>]}"
            ]
          },
          "metadata": {},
          "execution_count": 54
        },
        {
          "output_type": "display_data",
          "data": {
            "text/plain": [
              "<Figure size 432x288 with 1 Axes>"
            ],
            "image/png": "[encoded data removed]"
          },
          "metadata": {}
        }
      ]
    },
    {
      "cell_type": "code",
      "source": [
        "upper_outlier_value = 1.5*(df['residual sugar'].describe()[6]-df['residual sugar'].describe()[4]) + df['residual sugar'].describe()[6]\n",
        "lower_outlier_value =  df['residual sugar'].describe()[4]-1.5*(df['residual sugar'].describe()[6]-df['residual sugar'].describe()[4])\n",
        "upper_outliers = pd.DataFrame(df.loc[df['residual sugar']>upper_outlier_value, 'residual sugar'].sort_values(ascending=True))\n",
        "lower_outliers = pd.DataFrame(df.loc[df['residual sugar']<lower_outlier_value, 'residual sugar'].sort_values(ascending=True))\n",
        "print(f'Upper Outliers:\\n {upper_outliers}')\n",
        "print(f'Lower Outliers:\\n {lower_outliers}')\n",
        "\n",
        "plt.style.use('ggplot')\n",
        "plt.boxplot(df['residual sugar'])"
      ],
      "metadata": {
        "colab": {
          "base_uri": "https://localhost:8080/",
          "height": 735
        },
        "id": "prhWqBI0j7--",
        "outputId": "c2c1a14d-6891-41b6-d797-2f88760ceee0"
      },
      "execution_count": 55,
      "outputs": [
        {
          "output_type": "stream",
          "name": "stdout",
          "text": [
            "Upper Outliers:\n",
            "       residual sugar\n",
            "1138            3.70\n",
            "1552            3.70\n",
            "442             3.70\n",
            "408             3.70\n",
            "1471            3.75\n",
            "...              ...\n",
            "1244           13.40\n",
            "1474           13.80\n",
            "1574           13.90\n",
            "1434           15.40\n",
            "480            15.50\n",
            "\n",
            "[126 rows x 1 columns]\n",
            "Lower Outliers:\n",
            " Empty DataFrame\n",
            "Columns: [residual sugar]\n",
            "Index: []\n"
          ]
        },
        {
          "output_type": "execute_result",
          "data": {
            "text/plain": [
              "{'boxes': [<matplotlib.lines.Line2D at 0x7f322751bc10>],\n",
              " 'caps': [<matplotlib.lines.Line2D at 0x7f3227520c50>,\n",
              "  <matplotlib.lines.Line2D at 0x7f32275281d0>],\n",
              " 'fliers': [<matplotlib.lines.Line2D at 0x7f3227528c90>],\n",
              " 'means': [],\n",
              " 'medians': [<matplotlib.lines.Line2D at 0x7f3227528750>],\n",
              " 'whiskers': [<matplotlib.lines.Line2D at 0x7f32275201d0>,\n",
              "  <matplotlib.lines.Line2D at 0x7f3227520710>]}"
            ]
          },
          "metadata": {},
          "execution_count": 55
        },
        {
          "output_type": "display_data",
          "data": {
            "text/plain": [
              "<Figure size 432x288 with 1 Axes>"
            ],
            "image/png": "[encoded data removed]"
          },
          "metadata": {}
        }
      ]
    },
    {
      "cell_type": "code",
      "source": [
        "upper_outlier_value = 1.5*(df['volatile acidity'].describe()[6]-df['volatile acidity'].describe()[4]) + df['volatile acidity'].describe()[6]\n",
        "lower_outlier_value =  df['volatile acidity'].describe()[4]-1.5*(df['volatile acidity'].describe()[6]-df['volatile acidity'].describe()[4])\n",
        "upper_outliers = pd.DataFrame(df.loc[df['volatile acidity']>upper_outlier_value, 'volatile acidity'].sort_values(ascending=True))\n",
        "lower_outliers = pd.DataFrame(df.loc[df['volatile acidity']<lower_outlier_value, 'volatile acidity'].sort_values(ascending=True))\n",
        "print(f'Upper Outliers:\\n {upper_outliers}')\n",
        "print(f'Lower Outliers:\\n {lower_outliers}')\n",
        "\n",
        "plt.style.use('ggplot')\n",
        "plt.boxplot(df['volatile acidity'])"
      ],
      "metadata": {
        "colab": {
          "base_uri": "https://localhost:8080/",
          "height": 838
        },
        "id": "5GyzYEt5kJo_",
        "outputId": "7358626c-4117-4dea-9327-98609af7a925"
      },
      "execution_count": 56,
      "outputs": [
        {
          "output_type": "stream",
          "name": "stdout",
          "text": [
            "Upper Outliers:\n",
            "       volatile acidity\n",
            "94               1.020\n",
            "1261             1.020\n",
            "899              1.020\n",
            "700              1.020\n",
            "710              1.025\n",
            "705              1.035\n",
            "1467             1.040\n",
            "134              1.040\n",
            "553              1.040\n",
            "120              1.070\n",
            "199              1.090\n",
            "724              1.115\n",
            "38               1.130\n",
            "1312             1.180\n",
            "690              1.185\n",
            "672              1.240\n",
            "127              1.330\n",
            "126              1.330\n",
            "1299             1.580\n",
            "Lower Outliers:\n",
            " Empty DataFrame\n",
            "Columns: [volatile acidity]\n",
            "Index: []\n"
          ]
        },
        {
          "output_type": "execute_result",
          "data": {
            "text/plain": [
              "{'boxes': [<matplotlib.lines.Line2D at 0x7f32274995d0>],\n",
              " 'caps': [<matplotlib.lines.Line2D at 0x7f322749e610>,\n",
              "  <matplotlib.lines.Line2D at 0x7f322749eb50>],\n",
              " 'fliers': [<matplotlib.lines.Line2D at 0x7f32274a6650>],\n",
              " 'means': [],\n",
              " 'medians': [<matplotlib.lines.Line2D at 0x7f32274a6110>],\n",
              " 'whiskers': [<matplotlib.lines.Line2D at 0x7f3227499b50>,\n",
              "  <matplotlib.lines.Line2D at 0x7f322749e0d0>]}"
            ]
          },
          "metadata": {},
          "execution_count": 56
        },
        {
          "output_type": "display_data",
          "data": {
            "text/plain": [
              "<Figure size 432x288 with 1 Axes>"
            ],
            "image/png": "[encoded data removed]"
          },
          "metadata": {}
        }
      ]
    },
    {
      "cell_type": "code",
      "source": [
        "upper_outlier_value = 1.5*(df['citric acid'].describe()[6]-df['citric acid'].describe()[4]) + df['citric acid'].describe()[6]\n",
        "lower_outlier_value =  df['citric acid'].describe()[4]-1.5*(df['citric acid'].describe()[6]-df['citric acid'].describe()[4])\n",
        "upper_outliers = pd.DataFrame(df.loc[df['citric acid']>upper_outlier_value, 'citric acid'].sort_values(ascending=True))\n",
        "lower_outliers = pd.DataFrame(df.loc[df['citric acid']<lower_outlier_value, 'citric acid'].sort_values(ascending=True))\n",
        "print(f'Upper Outliers:\\n {upper_outliers}')\n",
        "print(f'Lower Outliers:\\n {lower_outliers}')\n",
        "\n",
        "plt.style.use('ggplot')\n",
        "plt.boxplot(df['citric acid'])"
      ],
      "metadata": {
        "colab": {
          "base_uri": "https://localhost:8080/",
          "height": 525
        },
        "id": "am_4m593kJ0P",
        "outputId": "f1d935fa-6c45-400e-de72-f77094d79d1d"
      },
      "execution_count": 57,
      "outputs": [
        {
          "output_type": "stream",
          "name": "stdout",
          "text": [
            "Upper Outliers:\n",
            "      citric acid\n",
            "151          1.0\n",
            "Lower Outliers:\n",
            " Empty DataFrame\n",
            "Columns: [citric acid]\n",
            "Index: []\n"
          ]
        },
        {
          "output_type": "execute_result",
          "data": {
            "text/plain": [
              "{'boxes': [<matplotlib.lines.Line2D at 0x7f3227415490>],\n",
              " 'caps': [<matplotlib.lines.Line2D at 0x7f322741a4d0>,\n",
              "  <matplotlib.lines.Line2D at 0x7f322741aa10>],\n",
              " 'fliers': [<matplotlib.lines.Line2D at 0x7f3227420510>],\n",
              " 'means': [],\n",
              " 'medians': [<matplotlib.lines.Line2D at 0x7f322741af90>],\n",
              " 'whiskers': [<matplotlib.lines.Line2D at 0x7f3227415a10>,\n",
              "  <matplotlib.lines.Line2D at 0x7f3227415f50>]}"
            ]
          },
          "metadata": {},
          "execution_count": 57
        },
        {
          "output_type": "display_data",
          "data": {
            "text/plain": [
              "<Figure size 432x288 with 1 Axes>"
            ],
            "image/png": "[encoded data removed]"
          },
          "metadata": {}
        }
      ]
    },
    {
      "cell_type": "code",
      "source": [
        "upper_outlier_value = 1.5*(df['chlorides'].describe()[6]-df['chlorides'].describe()[4]) + df['chlorides'].describe()[6]\n",
        "lower_outlier_value =  df['chlorides'].describe()[4]-1.5*(df['chlorides'].describe()[6]-df['chlorides'].describe()[4])\n",
        "upper_outliers = pd.DataFrame(df.loc[df['chlorides']>upper_outlier_value, 'chlorides'].sort_values(ascending=True))\n",
        "lower_outliers = pd.DataFrame(df.loc[df['chlorides']<lower_outlier_value, 'chlorides'].sort_values(ascending=True))\n",
        "print(f'Upper Outliers:\\n {upper_outliers}')\n",
        "print(f'Lower Outliers:\\n {lower_outliers}')\n",
        "\n",
        "plt.style.use('ggplot')\n",
        "plt.boxplot(df['chlorides'])"
      ],
      "metadata": {
        "colab": {
          "base_uri": "https://localhost:8080/",
          "height": 768
        },
        "id": "nlu8oBLdkJ99",
        "outputId": "bc2b3fb3-6f18-45c1-a1dc-81f4fde3f3d0"
      },
      "execution_count": 58,
      "outputs": [
        {
          "output_type": "stream",
          "name": "stdout",
          "text": [
            "Upper Outliers:\n",
            "       chlorides\n",
            "1020      0.123\n",
            "1423      0.123\n",
            "1258      0.123\n",
            "1252      0.123\n",
            "624       0.124\n",
            "...         ...\n",
            "692       0.422\n",
            "81        0.464\n",
            "106       0.467\n",
            "151       0.610\n",
            "258       0.611\n",
            "\n",
            "[83 rows x 1 columns]\n",
            "Lower Outliers:\n",
            "       chlorides\n",
            "836       0.012\n",
            "695       0.034\n",
            "797       0.038\n",
            "1571      0.038\n"
          ]
        },
        {
          "output_type": "execute_result",
          "data": {
            "text/plain": [
              "{'boxes': [<matplotlib.lines.Line2D at 0x7f3227386b90>],\n",
              " 'caps': [<matplotlib.lines.Line2D at 0x7f322738fbd0>,\n",
              "  <matplotlib.lines.Line2D at 0x7f3227395150>],\n",
              " 'fliers': [<matplotlib.lines.Line2D at 0x7f3227395c10>],\n",
              " 'means': [],\n",
              " 'medians': [<matplotlib.lines.Line2D at 0x7f32273956d0>],\n",
              " 'whiskers': [<matplotlib.lines.Line2D at 0x7f322738f150>,\n",
              "  <matplotlib.lines.Line2D at 0x7f322738f690>]}"
            ]
          },
          "metadata": {},
          "execution_count": 58
        },
        {
          "output_type": "display_data",
          "data": {
            "text/plain": [
              "<Figure size 432x288 with 1 Axes>"
            ],
            "image/png": "[encoded data removed]"
          },
          "metadata": {}
        }
      ]
    },
    {
      "cell_type": "code",
      "source": [
        "upper_outlier_value = 1.5*(df['free sulfur dioxide'].describe()[6]-df['free sulfur dioxide'].describe()[4]) + df['free sulfur dioxide'].describe()[6]\n",
        "lower_outlier_value =  df['free sulfur dioxide'].describe()[4]-1.5*(df['free sulfur dioxide'].describe()[6]-df['free sulfur dioxide'].describe()[4])\n",
        "upper_outliers = pd.DataFrame(df.loc[df['free sulfur dioxide']>upper_outlier_value, 'free sulfur dioxide'].sort_values(ascending=True))\n",
        "lower_outliers = pd.DataFrame(df.loc[df['free sulfur dioxide']<lower_outlier_value, 'free sulfur dioxide'].sort_values(ascending=True))\n",
        "print(f'Upper Outliers:\\n {upper_outliers}')\n",
        "print(f'Lower Outliers:\\n {lower_outliers}')\n",
        "\n",
        "plt.style.use('ggplot')\n",
        "plt.boxplot(df['free sulfur dioxide'])"
      ],
      "metadata": {
        "colab": {
          "base_uri": "https://localhost:8080/",
          "height": 959
        },
        "id": "wVYw_QbdkKGZ",
        "outputId": "088abfaf-7e74-48a9-c695-029f648f70b4"
      },
      "execution_count": 59,
      "outputs": [
        {
          "output_type": "stream",
          "name": "stdout",
          "text": [
            "Upper Outliers:\n",
            "       free sulfur dioxide\n",
            "1217                 43.0\n",
            "1256                 43.0\n",
            "497                  43.0\n",
            "1075                 45.0\n",
            "1156                 45.0\n",
            "678                  45.0\n",
            "634                  46.0\n",
            "522                  47.0\n",
            "1231                 48.0\n",
            "1474                 48.0\n",
            "1175                 48.0\n",
            "57                   50.0\n",
            "1154                 50.0\n",
            "1295                 51.0\n",
            "982                  51.0\n",
            "15                   51.0\n",
            "1358                 52.0\n",
            "14                   52.0\n",
            "926                  52.0\n",
            "925                  53.0\n",
            "584                  54.0\n",
            "1434                 55.0\n",
            "1131                 57.0\n",
            "1558                 66.0\n",
            "396                  68.0\n",
            "1244                 72.0\n",
            "Lower Outliers:\n",
            " Empty DataFrame\n",
            "Columns: [free sulfur dioxide]\n",
            "Index: []\n"
          ]
        },
        {
          "output_type": "execute_result",
          "data": {
            "text/plain": [
              "{'boxes': [<matplotlib.lines.Line2D at 0x7f32272fa250>],\n",
              " 'caps': [<matplotlib.lines.Line2D at 0x7f3227300290>,\n",
              "  <matplotlib.lines.Line2D at 0x7f32273007d0>],\n",
              " 'fliers': [<matplotlib.lines.Line2D at 0x7f32273092d0>],\n",
              " 'means': [],\n",
              " 'medians': [<matplotlib.lines.Line2D at 0x7f3227300d50>],\n",
              " 'whiskers': [<matplotlib.lines.Line2D at 0x7f32272fa7d0>,\n",
              "  <matplotlib.lines.Line2D at 0x7f32272fad10>]}"
            ]
          },
          "metadata": {},
          "execution_count": 59
        },
        {
          "output_type": "display_data",
          "data": {
            "text/plain": [
              "<Figure size 432x288 with 1 Axes>"
            ],
            "image/png": "[encoded data removed]"
          },
          "metadata": {}
        }
      ]
    },
    {
      "cell_type": "code",
      "source": [
        "upper_outlier_value = 1.5*(df['total sulfur dioxide'].describe()[6]-df['total sulfur dioxide'].describe()[4]) + df['total sulfur dioxide'].describe()[6]\n",
        "lower_outlier_value =  df['total sulfur dioxide'].describe()[4]-1.5*(df['total sulfur dioxide'].describe()[6]-df['total sulfur dioxide'].describe()[4])\n",
        "upper_outliers = pd.DataFrame(df.loc[df['total sulfur dioxide']>upper_outlier_value, 'total sulfur dioxide'].sort_values(ascending=True))\n",
        "lower_outliers = pd.DataFrame(df.loc[df['total sulfur dioxide']<lower_outlier_value, 'total sulfur dioxide'].sort_values(ascending=True))\n",
        "print(f'Upper Outliers:\\n {upper_outliers}')\n",
        "print(f'Lower Outliers:\\n {lower_outliers}')\n",
        "df.drop([1079, 1081], inplace=True)\n",
        "\n",
        "plt.style.use('ggplot')\n",
        "plt.boxplot(df['total sulfur dioxide'])"
      ],
      "metadata": {
        "colab": {
          "base_uri": "https://localhost:8080/",
          "height": 1000
        },
        "id": "DfICeYinkKTp",
        "outputId": "013fcdc3-dcab-4ea5-bd3c-0c29cd8cc58f"
      },
      "execution_count": 68,
      "outputs": [
        {
          "output_type": "stream",
          "name": "stdout",
          "text": [
            "Upper Outliers:\n",
            "       total sulfur dioxide\n",
            "694                  125.0\n",
            "88                   125.0\n",
            "192                  126.0\n",
            "723                  127.0\n",
            "190                  127.0\n",
            "155                  128.0\n",
            "463                  129.0\n",
            "154                  129.0\n",
            "791                  130.0\n",
            "1559                 131.0\n",
            "522                  133.0\n",
            "1419                 133.0\n",
            "92                   133.0\n",
            "415                  134.0\n",
            "130                  134.0\n",
            "1131                 135.0\n",
            "313                  135.0\n",
            "86                   136.0\n",
            "741                  139.0\n",
            "90                   140.0\n",
            "145                  141.0\n",
            "1400                 141.0\n",
            "523                  142.0\n",
            "188                  143.0\n",
            "771                  143.0\n",
            "772                  144.0\n",
            "189                  144.0\n",
            "219                  144.0\n",
            "14                   145.0\n",
            "637                  145.0\n",
            "201                  145.0\n",
            "636                  147.0\n",
            "1493                 147.0\n",
            "649                  148.0\n",
            "15                   148.0\n",
            "591                  149.0\n",
            "672                  151.0\n",
            "515                  151.0\n",
            "684                  152.0\n",
            "109                  153.0\n",
            "651                  155.0\n",
            "1244                 160.0\n",
            "354                  165.0\n",
            "Lower Outliers:\n",
            " Empty DataFrame\n",
            "Columns: [total sulfur dioxide]\n",
            "Index: []\n"
          ]
        },
        {
          "output_type": "execute_result",
          "data": {
            "text/plain": [
              "{'boxes': [<matplotlib.lines.Line2D at 0x7f3226fa0bd0>],\n",
              " 'caps': [<matplotlib.lines.Line2D at 0x7f3226fa8c10>,\n",
              "  <matplotlib.lines.Line2D at 0x7f3226fb0190>],\n",
              " 'fliers': [<matplotlib.lines.Line2D at 0x7f3226fb0c50>],\n",
              " 'means': [],\n",
              " 'medians': [<matplotlib.lines.Line2D at 0x7f3226fb0710>],\n",
              " 'whiskers': [<matplotlib.lines.Line2D at 0x7f3226fa8190>,\n",
              "  <matplotlib.lines.Line2D at 0x7f3226fa86d0>]}"
            ]
          },
          "metadata": {},
          "execution_count": 68
        },
        {
          "output_type": "display_data",
          "data": {
            "text/plain": [
              "<Figure size 432x288 with 1 Axes>"
            ],
            "image/png": "[encoded data removed]"
          },
          "metadata": {}
        }
      ]
    },
    {
      "cell_type": "code",
      "source": [
        "upper_outlier_value = 1.5*(df['density'].describe()[6]-df['density'].describe()[4]) + df['density'].describe()[6]\n",
        "lower_outlier_value =  df['density'].describe()[4]-1.5*(df['density'].describe()[6]-df['density'].describe()[4])\n",
        "upper_outliers = pd.DataFrame(df.loc[df['density']>upper_outlier_value, 'density'].sort_values(ascending=True))\n",
        "lower_outliers = pd.DataFrame(df.loc[df['density']<lower_outlier_value, 'density'].sort_values(ascending=True))\n",
        "print(f'Upper Outliers:\\n {upper_outliers}')\n",
        "print(f'Lower Outliers:\\n {lower_outliers}')\n",
        "\n",
        "plt.style.use('ggplot')\n",
        "plt.boxplot(df['density'])"
      ],
      "metadata": {
        "colab": {
          "base_uri": "https://localhost:8080/",
          "height": 1000
        },
        "id": "9tb14pWfkKrT",
        "outputId": "6aeb9c73-3e07-4c2f-acc1-a88629d680f5"
      },
      "execution_count": 61,
      "outputs": [
        {
          "output_type": "stream",
          "name": "stdout",
          "text": [
            "Upper Outliers:\n",
            "       density\n",
            "294   1.00140\n",
            "374   1.00140\n",
            "381   1.00140\n",
            "415   1.00140\n",
            "538   1.00140\n",
            "324   1.00150\n",
            "353   1.00180\n",
            "559   1.00210\n",
            "364   1.00220\n",
            "1474  1.00242\n",
            "608   1.00260\n",
            "480   1.00260\n",
            "889   1.00289\n",
            "554   1.00315\n",
            "557   1.00315\n",
            "442   1.00320\n",
            "1434  1.00369\n",
            "Lower Outliers:\n",
            "       density\n",
            "1017  0.99007\n",
            "1114  0.99020\n",
            "836   0.99064\n",
            "1269  0.99080\n",
            "1270  0.99084\n",
            "354   0.99120\n",
            "1126  0.99150\n",
            "821   0.99154\n",
            "1228  0.99157\n",
            "142   0.99160\n",
            "999   0.99162\n",
            "588   0.99170\n",
            "1475  0.99182\n",
            "1477  0.99182\n",
            "1298  0.99191\n",
            "695   0.99210\n",
            "1122  0.99220\n",
            "591   0.99220\n"
          ]
        },
        {
          "output_type": "execute_result",
          "data": {
            "text/plain": [
              "{'boxes': [<matplotlib.lines.Line2D at 0x7f3227263d50>],\n",
              " 'caps': [<matplotlib.lines.Line2D at 0x7f322726ad90>,\n",
              "  <matplotlib.lines.Line2D at 0x7f322726e310>],\n",
              " 'fliers': [<matplotlib.lines.Line2D at 0x7f322726edd0>],\n",
              " 'means': [],\n",
              " 'medians': [<matplotlib.lines.Line2D at 0x7f322726e890>],\n",
              " 'whiskers': [<matplotlib.lines.Line2D at 0x7f322726a310>,\n",
              "  <matplotlib.lines.Line2D at 0x7f322726a850>]}"
            ]
          },
          "metadata": {},
          "execution_count": 61
        },
        {
          "output_type": "display_data",
          "data": {
            "text/plain": [
              "<Figure size 432x288 with 1 Axes>"
            ],
            "image/png": "[encoded data removed]"
          },
          "metadata": {}
        }
      ]
    },
    {
      "cell_type": "code",
      "source": [
        "upper_outlier_value = 1.5*(df['pH'].describe()[6]-df['pH'].describe()[4]) + df['pH'].describe()[6]\n",
        "lower_outlier_value =  df['pH'].describe()[4]-1.5*(df['pH'].describe()[6]-df['pH'].describe()[4])\n",
        "upper_outliers = pd.DataFrame(df.loc[df['pH']>upper_outlier_value, 'pH'].sort_values(ascending=True))\n",
        "lower_outliers = pd.DataFrame(df.loc[df['pH']<lower_outlier_value, 'pH'].sort_values(ascending=True))\n",
        "print(f'Upper Outliers:\\n {upper_outliers}')\n",
        "print(f'Lower Outliers:\\n {lower_outliers}')\n",
        "\n",
        "plt.style.use('ggplot')\n",
        "plt.boxplot(df['pH'])"
      ],
      "metadata": {
        "colab": {
          "base_uri": "https://localhost:8080/",
          "height": 959
        },
        "id": "KMlMOSq2kK11",
        "outputId": "03cf479b-6bec-4a4d-a60a-36de2668b589"
      },
      "execution_count": 62,
      "outputs": [
        {
          "output_type": "stream",
          "name": "stdout",
          "text": [
            "Upper Outliers:\n",
            "         pH\n",
            "930   3.69\n",
            "268   3.69\n",
            "1270  3.70\n",
            "996   3.71\n",
            "1377  3.71\n",
            "821   3.71\n",
            "1488  3.72\n",
            "588   3.72\n",
            "553   3.74\n",
            "94    3.75\n",
            "1111  3.78\n",
            "1300  3.78\n",
            "95    3.85\n",
            "695   3.90\n",
            "45    3.90\n",
            "1316  4.01\n",
            "1321  4.01\n",
            "Lower Outliers:\n",
            "         pH\n",
            "151   2.74\n",
            "544   2.86\n",
            "614   2.87\n",
            "440   2.88\n",
            "1470  2.88\n",
            "650   2.89\n",
            "1017  2.89\n",
            "1319  2.90\n",
            "554   2.92\n",
            "557   2.92\n",
            "657   2.92\n"
          ]
        },
        {
          "output_type": "execute_result",
          "data": {
            "text/plain": [
              "{'boxes': [<matplotlib.lines.Line2D at 0x7f32271dbd50>],\n",
              " 'caps': [<matplotlib.lines.Line2D at 0x7f32271e2a50>,\n",
              "  <matplotlib.lines.Line2D at 0x7f32271e2f50>],\n",
              " 'fliers': [<matplotlib.lines.Line2D at 0x7f32271eba50>],\n",
              " 'means': [],\n",
              " 'medians': [<matplotlib.lines.Line2D at 0x7f32271eb510>],\n",
              " 'whiskers': [<matplotlib.lines.Line2D at 0x7f32271e2310>,\n",
              "  <matplotlib.lines.Line2D at 0x7f32271e2850>]}"
            ]
          },
          "metadata": {},
          "execution_count": 62
        },
        {
          "output_type": "display_data",
          "data": {
            "text/plain": [
              "<Figure size 432x288 with 1 Axes>"
            ],
            "image/png": "[encoded data removed]"
          },
          "metadata": {}
        }
      ]
    },
    {
      "cell_type": "code",
      "source": [
        "upper_outlier_value = 1.5*(df['sulphates'].describe()[6]-df['sulphates'].describe()[4]) + df['sulphates'].describe()[6]\n",
        "lower_outlier_value =  df['sulphates'].describe()[4]-1.5*(df['sulphates'].describe()[6]-df['sulphates'].describe()[4])\n",
        "upper_outliers = pd.DataFrame(df.loc[df['sulphates']>upper_outlier_value, 'sulphates'].sort_values(ascending=True))\n",
        "lower_outliers = pd.DataFrame(df.loc[df['sulphates']<lower_outlier_value, 'sulphates'].sort_values(ascending=True))\n",
        "print(f'Upper Outliers:\\n {upper_outliers}')\n",
        "print(f'Lower Outliers:\\n {lower_outliers}')\n",
        "\n",
        "plt.style.use('ggplot')\n",
        "plt.boxplot(df['sulphates'])"
      ],
      "metadata": {
        "colab": {
          "base_uri": "https://localhost:8080/",
          "height": 404
        },
        "id": "u-LmqfoVkdbG",
        "outputId": "1f252d56-1f13-470c-82cc-1cfeb849de9c"
      },
      "execution_count": 31,
      "outputs": [
        {
          "output_type": "execute_result",
          "data": {
            "text/plain": [
              "{'boxes': [<matplotlib.lines.Line2D at 0x7f32285fa410>],\n",
              " 'caps': [<matplotlib.lines.Line2D at 0x7f3228601450>,\n",
              "  <matplotlib.lines.Line2D at 0x7f3228601990>],\n",
              " 'fliers': [<matplotlib.lines.Line2D at 0x7f3228609490>],\n",
              " 'means': [],\n",
              " 'medians': [<matplotlib.lines.Line2D at 0x7f3228601f10>],\n",
              " 'whiskers': [<matplotlib.lines.Line2D at 0x7f32285fa990>,\n",
              "  <matplotlib.lines.Line2D at 0x7f32285faed0>]}"
            ]
          },
          "metadata": {},
          "execution_count": 31
        },
        {
          "output_type": "display_data",
          "data": {
            "text/plain": [
              "<Figure size 432x288 with 1 Axes>"
            ],
            "image/png": "[encoded data removed]"
          },
          "metadata": {}
        }
      ]
    },
    {
      "cell_type": "code",
      "source": [
        "upper_outlier_value = 1.5*(df['alcohol'].describe()[6]-df['alcohol'].describe()[4]) + df['alcohol'].describe()[6]\n",
        "lower_outlier_value =  df['alcohol'].describe()[4]-1.5*(df['alcohol'].describe()[6]-df['alcohol'].describe()[4])\n",
        "upper_outliers = pd.DataFrame(df.loc[df['alcohol']>upper_outlier_value, 'alcohol'].sort_values(ascending=True))\n",
        "lower_outliers = pd.DataFrame(df.loc[df['alcohol']<lower_outlier_value, 'alcohol'].sort_values(ascending=True))\n",
        "print(f'Upper Outliers:\\n {upper_outliers}')\n",
        "print(f'Lower Outliers:\\n {lower_outliers}')\n",
        "\n",
        "plt.style.use('ggplot')\n",
        "plt.boxplot(df['alcohol'])"
      ],
      "metadata": {
        "colab": {
          "base_uri": "https://localhost:8080/",
          "height": 716
        },
        "id": "NbMbFygqkfPV",
        "outputId": "8b2dd6d3-e23c-4b6e-be68-f861c36d5a89"
      },
      "execution_count": 64,
      "outputs": [
        {
          "output_type": "stream",
          "name": "stdout",
          "text": [
            "Upper Outliers:\n",
            "         alcohol\n",
            "1475  13.566667\n",
            "1114  13.600000\n",
            "1132  13.600000\n",
            "1228  13.600000\n",
            "1477  13.600000\n",
            "142   14.000000\n",
            "467   14.000000\n",
            "588   14.000000\n",
            "821   14.000000\n",
            "1269  14.000000\n",
            "1270  14.000000\n",
            "652   14.900000\n",
            "Lower Outliers:\n",
            " Empty DataFrame\n",
            "Columns: [alcohol]\n",
            "Index: []\n"
          ]
        },
        {
          "output_type": "execute_result",
          "data": {
            "text/plain": [
              "{'boxes': [<matplotlib.lines.Line2D at 0x7f3227784890>],\n",
              " 'caps': [<matplotlib.lines.Line2D at 0x7f32271d2b50>,\n",
              "  <matplotlib.lines.Line2D at 0x7f32272a9f90>],\n",
              " 'fliers': [<matplotlib.lines.Line2D at 0x7f32274e92d0>],\n",
              " 'means': [],\n",
              " 'medians': [<matplotlib.lines.Line2D at 0x7f32272a9190>],\n",
              " 'whiskers': [<matplotlib.lines.Line2D at 0x7f32272c1b50>,\n",
              "  <matplotlib.lines.Line2D at 0x7f32275302d0>]}"
            ]
          },
          "metadata": {},
          "execution_count": 64
        },
        {
          "output_type": "display_data",
          "data": {
            "text/plain": [
              "<Figure size 432x288 with 1 Axes>"
            ],
            "image/png": "[encoded data removed]"
          },
          "metadata": {}
        }
      ]
    },
    {
      "cell_type": "code",
      "source": [
        "upper_outlier_value = 1.5*(df['quality'].describe()[6]-df['quality'].describe()[4]) + df['quality'].describe()[6]\n",
        "lower_outlier_value =  df['quality'].describe()[4]-1.5*(df['quality'].describe()[6]-df['quality'].describe()[4])\n",
        "upper_outliers = pd.DataFrame(df.loc[df['quality']>upper_outlier_value, 'quality'].sort_values(ascending=True))\n",
        "lower_outliers = pd.DataFrame(df.loc[df['quality']<lower_outlier_value, 'quality'].sort_values(ascending=True))\n",
        "print(f'Upper Outliers:\\n {upper_outliers}')\n",
        "print(f'Lower Outliers:\\n {lower_outliers}')\n",
        "\n",
        "plt.style.use('ggplot')\n",
        "plt.boxplot(df['quality'])"
      ],
      "metadata": {
        "colab": {
          "base_uri": "https://localhost:8080/",
          "height": 942
        },
        "id": "VQ39x6bjkfgp",
        "outputId": "86e8e93d-a7c7-45aa-a081-bd9ff92be2ae"
      },
      "execution_count": 63,
      "outputs": [
        {
          "output_type": "stream",
          "name": "stdout",
          "text": [
            "Upper Outliers:\n",
            "       quality\n",
            "267         8\n",
            "1403        8\n",
            "1269        8\n",
            "1202        8\n",
            "1120        8\n",
            "1090        8\n",
            "1061        8\n",
            "1449        8\n",
            "828         8\n",
            "495         8\n",
            "481         8\n",
            "455         8\n",
            "440         8\n",
            "390         8\n",
            "278         8\n",
            "588         8\n",
            "1549        8\n",
            "Lower Outliers:\n",
            "       quality\n",
            "459         3\n",
            "517         3\n",
            "690         3\n",
            "832         3\n",
            "899         3\n",
            "1299        3\n",
            "1374        3\n",
            "1469        3\n",
            "1478        3\n",
            "1505        3\n"
          ]
        },
        {
          "output_type": "execute_result",
          "data": {
            "text/plain": [
              "{'boxes': [<matplotlib.lines.Line2D at 0x7f32275e2490>],\n",
              " 'caps': [<matplotlib.lines.Line2D at 0x7f322761b7d0>,\n",
              "  <matplotlib.lines.Line2D at 0x7f322751be50>],\n",
              " 'fliers': [<matplotlib.lines.Line2D at 0x7f32274ec950>],\n",
              " 'means': [],\n",
              " 'medians': [<matplotlib.lines.Line2D at 0x7f3227651910>],\n",
              " 'whiskers': [<matplotlib.lines.Line2D at 0x7f32275e2850>,\n",
              "  <matplotlib.lines.Line2D at 0x7f32276a36d0>]}"
            ]
          },
          "metadata": {},
          "execution_count": 63
        },
        {
          "output_type": "display_data",
          "data": {
            "text/plain": [
              "<Figure size 432x288 with 1 Axes>"
            ],
            "image/png": "[encoded data removed]"
          },
          "metadata": {}
        }
      ]
    },
    {
      "cell_type": "markdown",
      "source": [
        "Sources: Geeks for Geeks, statology, w3schools, Learn Platform, towardsDev.com, shishirkant.com, datatofish.com, datasciencemadesimple.com "
      ],
      "metadata": {
        "id": "2srSKBvq5TYe"
      }
    }
  ]
}