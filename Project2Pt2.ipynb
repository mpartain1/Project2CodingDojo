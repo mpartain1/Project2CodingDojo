{
  "nbformat": 4,
  "nbformat_minor": 0,
  "metadata": {
    "colab": {
      "name": "Project2Pt2.ipynb",
      "provenance": [],
      "collapsed_sections": [],
      "include_colab_link": true
    },
    "kernelspec": {
      "name": "python3",
      "display_name": "Python 3"
    },
    "language_info": {
      "name": "python"
    }
  },
  "cells": [
    {
      "cell_type": "markdown",
      "metadata": {
        "id": "view-in-github",
        "colab_type": "text"
      },
      "source": [
        "<a href=\"https://colab.research.google.com/github/mpartain1/Project2CodingDojo/blob/main/Project2Pt2.ipynb\" target=\"_parent\"><img src=\"https://colab.research.google.com/assets/colab-badge.svg\" alt=\"Open In Colab\"/></a>"
      ]
    },
    {
      "cell_type": "code",
      "execution_count": 27,
      "metadata": {
        "colab": {
          "base_uri": "https://localhost:8080/",
          "height": 204
        },
        "id": "E19gilksSJlb",
        "outputId": "11f7f072-5311-4ea1-e8ad-0044abd74a91"
      },
      "outputs": [
        {
          "output_type": "execute_result",
          "data": {
            "text/plain": [
              "   fixed acidity  volatile acidity  citric acid  residual sugar  chlorides  \\\n",
              "0            7.4              0.70         0.00             1.9      0.076   \n",
              "1            7.8              0.88         0.00             2.6      0.098   \n",
              "2            7.8              0.76         0.04             2.3      0.092   \n",
              "3           11.2              0.28         0.56             1.9      0.075   \n",
              "4            7.4              0.70         0.00             1.9      0.076   \n",
              "\n",
              "   free sulfur dioxide  total sulfur dioxide  density    pH  sulphates  \\\n",
              "0                 11.0                  34.0   0.9978  3.51       0.56   \n",
              "1                 25.0                  67.0   0.9968  3.20       0.68   \n",
              "2                 15.0                  54.0   0.9970  3.26       0.65   \n",
              "3                 17.0                  60.0   0.9980  3.16       0.58   \n",
              "4                 11.0                  34.0   0.9978  3.51       0.56   \n",
              "\n",
              "   alcohol  quality  \n",
              "0      9.4        5  \n",
              "1      9.8        5  \n",
              "2      9.8        5  \n",
              "3      9.8        6  \n",
              "4      9.4        5  "
            ],
            "text/html": [
              "\n",
              "  <div id=\"df-30ac3dee-6092-4d3a-9ac9-c119c93a9530\">\n",
              "    <div class=\"colab-df-container\">\n",
              "      <div>\n",
              "<style scoped>\n",
              "    .dataframe tbody tr th:only-of-type {\n",
              "        vertical-align: middle;\n",
              "    }\n",
              "\n",
              "    .dataframe tbody tr th {\n",
              "        vertical-align: top;\n",
              "    }\n",
              "\n",
              "    .dataframe thead th {\n",
              "        text-align: right;\n",
              "    }\n",
              "</style>\n",
              "<table border=\"1\" class=\"dataframe\">\n",
              "  <thead>\n",
              "    <tr style=\"text-align: right;\">\n",
              "      <th></th>\n",
              "      <th>fixed acidity</th>\n",
              "      <th>volatile acidity</th>\n",
              "      <th>citric acid</th>\n",
              "      <th>residual sugar</th>\n",
              "      <th>chlorides</th>\n",
              "      <th>free sulfur dioxide</th>\n",
              "      <th>total sulfur dioxide</th>\n",
              "      <th>density</th>\n",
              "      <th>pH</th>\n",
              "      <th>sulphates</th>\n",
              "      <th>alcohol</th>\n",
              "      <th>quality</th>\n",
              "    </tr>\n",
              "  </thead>\n",
              "  <tbody>\n",
              "    <tr>\n",
              "      <th>0</th>\n",
              "      <td>7.4</td>\n",
              "      <td>0.70</td>\n",
              "      <td>0.00</td>\n",
              "      <td>1.9</td>\n",
              "      <td>0.076</td>\n",
              "      <td>11.0</td>\n",
              "      <td>34.0</td>\n",
              "      <td>0.9978</td>\n",
              "      <td>3.51</td>\n",
              "      <td>0.56</td>\n",
              "      <td>9.4</td>\n",
              "      <td>5</td>\n",
              "    </tr>\n",
              "    <tr>\n",
              "      <th>1</th>\n",
              "      <td>7.8</td>\n",
              "      <td>0.88</td>\n",
              "      <td>0.00</td>\n",
              "      <td>2.6</td>\n",
              "      <td>0.098</td>\n",
              "      <td>25.0</td>\n",
              "      <td>67.0</td>\n",
              "      <td>0.9968</td>\n",
              "      <td>3.20</td>\n",
              "      <td>0.68</td>\n",
              "      <td>9.8</td>\n",
              "      <td>5</td>\n",
              "    </tr>\n",
              "    <tr>\n",
              "      <th>2</th>\n",
              "      <td>7.8</td>\n",
              "      <td>0.76</td>\n",
              "      <td>0.04</td>\n",
              "      <td>2.3</td>\n",
              "      <td>0.092</td>\n",
              "      <td>15.0</td>\n",
              "      <td>54.0</td>\n",
              "      <td>0.9970</td>\n",
              "      <td>3.26</td>\n",
              "      <td>0.65</td>\n",
              "      <td>9.8</td>\n",
              "      <td>5</td>\n",
              "    </tr>\n",
              "    <tr>\n",
              "      <th>3</th>\n",
              "      <td>11.2</td>\n",
              "      <td>0.28</td>\n",
              "      <td>0.56</td>\n",
              "      <td>1.9</td>\n",
              "      <td>0.075</td>\n",
              "      <td>17.0</td>\n",
              "      <td>60.0</td>\n",
              "      <td>0.9980</td>\n",
              "      <td>3.16</td>\n",
              "      <td>0.58</td>\n",
              "      <td>9.8</td>\n",
              "      <td>6</td>\n",
              "    </tr>\n",
              "    <tr>\n",
              "      <th>4</th>\n",
              "      <td>7.4</td>\n",
              "      <td>0.70</td>\n",
              "      <td>0.00</td>\n",
              "      <td>1.9</td>\n",
              "      <td>0.076</td>\n",
              "      <td>11.0</td>\n",
              "      <td>34.0</td>\n",
              "      <td>0.9978</td>\n",
              "      <td>3.51</td>\n",
              "      <td>0.56</td>\n",
              "      <td>9.4</td>\n",
              "      <td>5</td>\n",
              "    </tr>\n",
              "  </tbody>\n",
              "</table>\n",
              "</div>\n",
              "      <button class=\"colab-df-convert\" onclick=\"convertToInteractive('df-30ac3dee-6092-4d3a-9ac9-c119c93a9530')\"\n",
              "              title=\"Convert this dataframe to an interactive table.\"\n",
              "              style=\"display:none;\">\n",
              "        \n",
              "  <svg xmlns=\"http://www.w3.org/2000/svg\" height=\"24px\"viewBox=\"0 0 24 24\"\n",
              "       width=\"24px\">\n",
              "    <path d=\"M0 0h24v24H0V0z\" fill=\"none\"/>\n",
              "    <path d=\"M18.56 5.44l.94 2.06.94-2.06 2.06-.94-2.06-.94-.94-2.06-.94 2.06-2.06.94zm-11 1L8.5 8.5l.94-2.06 2.06-.94-2.06-.94L8.5 2.5l-.94 2.06-2.06.94zm10 10l.94 2.06.94-2.06 2.06-.94-2.06-.94-.94-2.06-.94 2.06-2.06.94z\"/><path d=\"M17.41 7.96l-1.37-1.37c-.4-.4-.92-.59-1.43-.59-.52 0-1.04.2-1.43.59L10.3 9.45l-7.72 7.72c-.78.78-.78 2.05 0 2.83L4 21.41c.39.39.9.59 1.41.59.51 0 1.02-.2 1.41-.59l7.78-7.78 2.81-2.81c.8-.78.8-2.07 0-2.86zM5.41 20L4 18.59l7.72-7.72 1.47 1.35L5.41 20z\"/>\n",
              "  </svg>\n",
              "      </button>\n",
              "      \n",
              "  <style>\n",
              "    .colab-df-container {\n",
              "      display:flex;\n",
              "      flex-wrap:wrap;\n",
              "      gap: 12px;\n",
              "    }\n",
              "\n",
              "    .colab-df-convert {\n",
              "      background-color: #E8F0FE;\n",
              "      border: none;\n",
              "      border-radius: 50%;\n",
              "      cursor: pointer;\n",
              "      display: none;\n",
              "      fill: #1967D2;\n",
              "      height: 32px;\n",
              "      padding: 0 0 0 0;\n",
              "      width: 32px;\n",
              "    }\n",
              "\n",
              "    .colab-df-convert:hover {\n",
              "      background-color: #E2EBFA;\n",
              "      box-shadow: 0px 1px 2px rgba(60, 64, 67, 0.3), 0px 1px 3px 1px rgba(60, 64, 67, 0.15);\n",
              "      fill: #174EA6;\n",
              "    }\n",
              "\n",
              "    [theme=dark] .colab-df-convert {\n",
              "      background-color: #3B4455;\n",
              "      fill: #D2E3FC;\n",
              "    }\n",
              "\n",
              "    [theme=dark] .colab-df-convert:hover {\n",
              "      background-color: #434B5C;\n",
              "      box-shadow: 0px 1px 3px 1px rgba(0, 0, 0, 0.15);\n",
              "      filter: drop-shadow(0px 1px 2px rgba(0, 0, 0, 0.3));\n",
              "      fill: #FFFFFF;\n",
              "    }\n",
              "  </style>\n",
              "\n",
              "      <script>\n",
              "        const buttonEl =\n",
              "          document.querySelector('#df-30ac3dee-6092-4d3a-9ac9-c119c93a9530 button.colab-df-convert');\n",
              "        buttonEl.style.display =\n",
              "          google.colab.kernel.accessAllowed ? 'block' : 'none';\n",
              "\n",
              "        async function convertToInteractive(key) {\n",
              "          const element = document.querySelector('#df-30ac3dee-6092-4d3a-9ac9-c119c93a9530');\n",
              "          const dataTable =\n",
              "            await google.colab.kernel.invokeFunction('convertToInteractive',\n",
              "                                                     [key], {});\n",
              "          if (!dataTable) return;\n",
              "\n",
              "          const docLinkHtml = 'Like what you see? Visit the ' +\n",
              "            '<a target=\"_blank\" href=https://colab.research.google.com/notebooks/data_table.ipynb>data table notebook</a>'\n",
              "            + ' to learn more about interactive tables.';\n",
              "          element.innerHTML = '';\n",
              "          dataTable['output_type'] = 'display_data';\n",
              "          await google.colab.output.renderOutput(dataTable, element);\n",
              "          const docLink = document.createElement('div');\n",
              "          docLink.innerHTML = docLinkHtml;\n",
              "          element.appendChild(docLink);\n",
              "        }\n",
              "      </script>\n",
              "    </div>\n",
              "  </div>\n",
              "  "
            ]
          },
          "metadata": {},
          "execution_count": 27
        }
      ],
      "source": [
        "#Data Set 1\n",
        "#Source of Data: UCI Machine Learning Repository\n",
        "\n",
        "#This data set relates to the quality of \"Vinho Verde\" red wine.  It contains attributes such as fixed acidity, \n",
        "#chlorides, and residual sugar.\n",
        "\n",
        "#The target is quality (score between 0 and 10)\n",
        "\n",
        "#This is a regression problem\n",
        "\n",
        "#12 features\n",
        "\n",
        "#4898 rows of data\n",
        "\n",
        "#Challenge could be trying to assess the most influential factors that predict wine quality.\n",
        "import pandas as pd\n",
        "import matplotlib.pyplot as plt\n",
        "import seaborn as sns\n",
        "import numpy as np\n",
        "from sklearn.model_selection import train_test_split\n",
        "from sklearn.tree import DecisionTreeRegressor\n",
        "from sklearn.preprocessing import StandardScaler, LabelEncoder\n",
        "from sklearn.impute import SimpleImputer\n",
        "from sklearn.compose import make_column_transformer, make_column_selector\n",
        "from sklearn.pipeline import make_pipeline\n",
        "from sklearn import set_config\n",
        "from sklearn.ensemble import BaggingRegressor\n",
        "import seaborn as sns\n",
        "from sklearn.model_selection import train_test_split, GridSearchCV\n",
        "from sklearn.decomposition import PCA\n",
        "from sklearn.linear_model import LogisticRegression\n",
        "from sklearn.metrics import mean_absolute_error, mean_squared_error, r2_score\n",
        "\n",
        "set_config(display='diagram')\n",
        "df = pd.read_csv('/content/winequality-red.csv', sep = ';')\n",
        "df.head()"
      ]
    },
    {
      "cell_type": "code",
      "source": [
        "from google.colab import drive\n",
        "drive.mount('/content/drive')"
      ],
      "metadata": {
        "colab": {
          "base_uri": "https://localhost:8080/"
        },
        "id": "YkYvyZl9T_bP",
        "outputId": "8dfad874-c4f7-427f-cf86-befa8d7758c0"
      },
      "execution_count": 2,
      "outputs": [
        {
          "output_type": "stream",
          "name": "stdout",
          "text": [
            "Mounted at /content/drive\n"
          ]
        }
      ]
    },
    {
      "cell_type": "markdown",
      "source": [
        "No unnecessary columns to delete"
      ],
      "metadata": {
        "id": "c0u-_wABe8J0"
      }
    },
    {
      "cell_type": "code",
      "source": [
        "df.drop_duplicates(inplace=True, keep = 'first')"
      ],
      "metadata": {
        "id": "cva_uOV4UUY2"
      },
      "execution_count": 3,
      "outputs": []
    },
    {
      "cell_type": "code",
      "source": [
        "df.isna().sum()"
      ],
      "metadata": {
        "colab": {
          "base_uri": "https://localhost:8080/"
        },
        "id": "l8QSolKTfKLc",
        "outputId": "81474312-5f20-4e6c-8c26-376a77e1f24b"
      },
      "execution_count": 4,
      "outputs": [
        {
          "output_type": "execute_result",
          "data": {
            "text/plain": [
              "fixed acidity           0\n",
              "volatile acidity        0\n",
              "citric acid             0\n",
              "residual sugar          0\n",
              "chlorides               0\n",
              "free sulfur dioxide     0\n",
              "total sulfur dioxide    0\n",
              "density                 0\n",
              "pH                      0\n",
              "sulphates               0\n",
              "alcohol                 0\n",
              "quality                 0\n",
              "dtype: int64"
            ]
          },
          "metadata": {},
          "execution_count": 4
        }
      ]
    },
    {
      "cell_type": "markdown",
      "source": [
        "No NA values"
      ],
      "metadata": {
        "id": "9AElV76Efylc"
      }
    },
    {
      "cell_type": "markdown",
      "source": [
        "No categorical values to address inconcistencies for"
      ],
      "metadata": {
        "id": "pWyWbzppf75w"
      }
    },
    {
      "cell_type": "markdown",
      "source": [
        "Below are univariate visualizations of the columns.\n"
      ],
      "metadata": {
        "id": "EOJaT20Nk35N"
      }
    },
    {
      "cell_type": "code",
      "source": [
        "upper_outlier_value = 1.5*(df['fixed acidity'].describe()[6]-df['fixed acidity'].describe()[4]) + df['fixed acidity'].describe()[6]\n",
        "lower_outlier_value =  df['fixed acidity'].describe()[4]-1.5*(df['fixed acidity'].describe()[6]-df['fixed acidity'].describe()[4])\n",
        "upper_outliers = pd.DataFrame(df.loc[df['fixed acidity']>upper_outlier_value, 'fixed acidity'].sort_values(ascending=True))\n",
        "lower_outliers = pd.DataFrame(df.loc[df['fixed acidity']<lower_outlier_value, 'fixed acidity'].sort_values(ascending=True))\n",
        "print(f'Upper Outliers:\\n {upper_outliers}')\n",
        "print(f'Lower Outliers:\\n {lower_outliers}')\n",
        "plt.style.use('ggplot')\n",
        "plt.boxplot(df['fixed acidity'])\n"
      ],
      "metadata": {
        "colab": {
          "base_uri": "https://localhost:8080/",
          "height": 1000
        },
        "id": "MsWCyGu4fxPj",
        "outputId": "2d977a15-aea2-4fca-de66-53d89ab5ce78"
      },
      "execution_count": 5,
      "outputs": [
        {
          "output_type": "stream",
          "name": "stdout",
          "text": [
            "Upper Outliers:\n",
            "       fixed acidity\n",
            "596            12.4\n",
            "338            12.4\n",
            "548            12.4\n",
            "510            12.4\n",
            "516            12.5\n",
            "409            12.5\n",
            "264            12.5\n",
            "339            12.5\n",
            "446            12.5\n",
            "472            12.5\n",
            "363            12.5\n",
            "814            12.6\n",
            "1224           12.6\n",
            "359            12.6\n",
            "440            12.6\n",
            "560            12.7\n",
            "394            12.7\n",
            "599            12.7\n",
            "205            12.8\n",
            "429            12.8\n",
            "364            12.8\n",
            "811            12.9\n",
            "538            12.9\n",
            "559            13.0\n",
            "470            13.0\n",
            "601            13.2\n",
            "611            13.2\n",
            "509            13.3\n",
            "294            13.3\n",
            "680            13.3\n",
            "328            13.4\n",
            "353            13.5\n",
            "381            13.7\n",
            "347            13.8\n",
            "374            14.0\n",
            "544            14.3\n",
            "243            15.0\n",
            "554            15.5\n",
            "442            15.6\n",
            "557            15.6\n",
            "652            15.9\n",
            "Lower Outliers:\n",
            " Empty DataFrame\n",
            "Columns: [fixed acidity]\n",
            "Index: []\n"
          ]
        },
        {
          "output_type": "execute_result",
          "data": {
            "text/plain": [
              "{'boxes': [<matplotlib.lines.Line2D at 0x7fa110744c90>],\n",
              " 'caps': [<matplotlib.lines.Line2D at 0x7fa110752d50>,\n",
              "  <matplotlib.lines.Line2D at 0x7fa11075a2d0>],\n",
              " 'fliers': [<matplotlib.lines.Line2D at 0x7fa11075ad90>],\n",
              " 'means': [],\n",
              " 'medians': [<matplotlib.lines.Line2D at 0x7fa11075a850>],\n",
              " 'whiskers': [<matplotlib.lines.Line2D at 0x7fa110744dd0>,\n",
              "  <matplotlib.lines.Line2D at 0x7fa110752810>]}"
            ]
          },
          "metadata": {},
          "execution_count": 5
        },
        {
          "output_type": "display_data",
          "data": {
            "text/plain": [
              "<Figure size 432x288 with 1 Axes>"
            ],
            "image/png": "[encoded data removed]"
          },
          "metadata": {}
        }
      ]
    },
    {
      "cell_type": "code",
      "source": [
        "upper_outlier_value = 1.5*(df['residual sugar'].describe()[6]-df['residual sugar'].describe()[4]) + df['residual sugar'].describe()[6]\n",
        "lower_outlier_value =  df['residual sugar'].describe()[4]-1.5*(df['residual sugar'].describe()[6]-df['residual sugar'].describe()[4])\n",
        "upper_outliers = pd.DataFrame(df.loc[df['residual sugar']>upper_outlier_value, 'residual sugar'].sort_values(ascending=True))\n",
        "lower_outliers = pd.DataFrame(df.loc[df['residual sugar']<lower_outlier_value, 'residual sugar'].sort_values(ascending=True))\n",
        "print(f'Upper Outliers:\\n {upper_outliers}')\n",
        "print(f'Lower Outliers:\\n {lower_outliers}')\n",
        "\n",
        "plt.style.use('ggplot')\n",
        "plt.boxplot(df['residual sugar'])"
      ],
      "metadata": {
        "colab": {
          "base_uri": "https://localhost:8080/",
          "height": 725
        },
        "id": "prhWqBI0j7--",
        "outputId": "b5c88230-3d49-46b5-9578-9d8716699949"
      },
      "execution_count": 6,
      "outputs": [
        {
          "output_type": "stream",
          "name": "stdout",
          "text": [
            "Upper Outliers:\n",
            "       residual sugar\n",
            "1138            3.70\n",
            "1552            3.70\n",
            "442             3.70\n",
            "408             3.70\n",
            "1471            3.75\n",
            "...              ...\n",
            "1244           13.40\n",
            "1474           13.80\n",
            "1574           13.90\n",
            "1434           15.40\n",
            "480            15.50\n",
            "\n",
            "[126 rows x 1 columns]\n",
            "Lower Outliers:\n",
            " Empty DataFrame\n",
            "Columns: [residual sugar]\n",
            "Index: []\n"
          ]
        },
        {
          "output_type": "execute_result",
          "data": {
            "text/plain": [
              "{'boxes': [<matplotlib.lines.Line2D at 0x7fa110231510>],\n",
              " 'caps': [<matplotlib.lines.Line2D at 0x7fa1102364d0>,\n",
              "  <matplotlib.lines.Line2D at 0x7fa110236a10>],\n",
              " 'fliers': [<matplotlib.lines.Line2D at 0x7fa11023e510>],\n",
              " 'means': [],\n",
              " 'medians': [<matplotlib.lines.Line2D at 0x7fa110236f90>],\n",
              " 'whiskers': [<matplotlib.lines.Line2D at 0x7fa110231a10>,\n",
              "  <matplotlib.lines.Line2D at 0x7fa110231f50>]}"
            ]
          },
          "metadata": {},
          "execution_count": 6
        },
        {
          "output_type": "display_data",
          "data": {
            "text/plain": [
              "<Figure size 432x288 with 1 Axes>"
            ],
            "image/png": "[encoded data removed]"
          },
          "metadata": {}
        }
      ]
    },
    {
      "cell_type": "code",
      "source": [
        "upper_outlier_value = 1.5*(df['volatile acidity'].describe()[6]-df['volatile acidity'].describe()[4]) + df['volatile acidity'].describe()[6]\n",
        "lower_outlier_value =  df['volatile acidity'].describe()[4]-1.5*(df['volatile acidity'].describe()[6]-df['volatile acidity'].describe()[4])\n",
        "upper_outliers = pd.DataFrame(df.loc[df['volatile acidity']>upper_outlier_value, 'volatile acidity'].sort_values(ascending=True))\n",
        "lower_outliers = pd.DataFrame(df.loc[df['volatile acidity']<lower_outlier_value, 'volatile acidity'].sort_values(ascending=True))\n",
        "print(f'Upper Outliers:\\n {upper_outliers}')\n",
        "print(f'Lower Outliers:\\n {lower_outliers}')\n",
        "\n",
        "plt.style.use('ggplot')\n",
        "plt.boxplot(df['volatile acidity'])"
      ],
      "metadata": {
        "colab": {
          "base_uri": "https://localhost:8080/",
          "height": 826
        },
        "id": "5GyzYEt5kJo_",
        "outputId": "27ef5cd5-1165-4216-d0d1-94311582a99c"
      },
      "execution_count": 7,
      "outputs": [
        {
          "output_type": "stream",
          "name": "stdout",
          "text": [
            "Upper Outliers:\n",
            "       volatile acidity\n",
            "94               1.020\n",
            "1261             1.020\n",
            "899              1.020\n",
            "700              1.020\n",
            "710              1.025\n",
            "705              1.035\n",
            "1467             1.040\n",
            "134              1.040\n",
            "553              1.040\n",
            "120              1.070\n",
            "199              1.090\n",
            "724              1.115\n",
            "38               1.130\n",
            "1312             1.180\n",
            "690              1.185\n",
            "672              1.240\n",
            "127              1.330\n",
            "126              1.330\n",
            "1299             1.580\n",
            "Lower Outliers:\n",
            " Empty DataFrame\n",
            "Columns: [volatile acidity]\n",
            "Index: []\n"
          ]
        },
        {
          "output_type": "execute_result",
          "data": {
            "text/plain": [
              "{'boxes': [<matplotlib.lines.Line2D at 0x7fa1101b5710>],\n",
              " 'caps': [<matplotlib.lines.Line2D at 0x7fa1101bc6d0>,\n",
              "  <matplotlib.lines.Line2D at 0x7fa1101bcc10>],\n",
              " 'fliers': [<matplotlib.lines.Line2D at 0x7fa1101c1710>],\n",
              " 'means': [],\n",
              " 'medians': [<matplotlib.lines.Line2D at 0x7fa1101c11d0>],\n",
              " 'whiskers': [<matplotlib.lines.Line2D at 0x7fa1101b5c10>,\n",
              "  <matplotlib.lines.Line2D at 0x7fa1101bc190>]}"
            ]
          },
          "metadata": {},
          "execution_count": 7
        },
        {
          "output_type": "display_data",
          "data": {
            "text/plain": [
              "<Figure size 432x288 with 1 Axes>"
            ],
            "image/png": "[encoded data removed]"
          },
          "metadata": {}
        }
      ]
    },
    {
      "cell_type": "code",
      "source": [
        "upper_outlier_value = 1.5*(df['citric acid'].describe()[6]-df['citric acid'].describe()[4]) + df['citric acid'].describe()[6]\n",
        "lower_outlier_value =  df['citric acid'].describe()[4]-1.5*(df['citric acid'].describe()[6]-df['citric acid'].describe()[4])\n",
        "upper_outliers = pd.DataFrame(df.loc[df['citric acid']>upper_outlier_value, 'citric acid'].sort_values(ascending=True))\n",
        "lower_outliers = pd.DataFrame(df.loc[df['citric acid']<lower_outlier_value, 'citric acid'].sort_values(ascending=True))\n",
        "print(f'Upper Outliers:\\n {upper_outliers}')\n",
        "print(f'Lower Outliers:\\n {lower_outliers}')\n",
        "\n",
        "plt.style.use('ggplot')\n",
        "plt.boxplot(df['citric acid'])"
      ],
      "metadata": {
        "colab": {
          "base_uri": "https://localhost:8080/",
          "height": 520
        },
        "id": "am_4m593kJ0P",
        "outputId": "d8177b9c-9276-41a5-af25-ea7e8adfd500"
      },
      "execution_count": 8,
      "outputs": [
        {
          "output_type": "stream",
          "name": "stdout",
          "text": [
            "Upper Outliers:\n",
            "      citric acid\n",
            "151          1.0\n",
            "Lower Outliers:\n",
            " Empty DataFrame\n",
            "Columns: [citric acid]\n",
            "Index: []\n"
          ]
        },
        {
          "output_type": "execute_result",
          "data": {
            "text/plain": [
              "{'boxes': [<matplotlib.lines.Line2D at 0x7fa110133e50>],\n",
              " 'caps': [<matplotlib.lines.Line2D at 0x7fa11013be10>,\n",
              "  <matplotlib.lines.Line2D at 0x7fa110142390>],\n",
              " 'fliers': [<matplotlib.lines.Line2D at 0x7fa110142e50>],\n",
              " 'means': [],\n",
              " 'medians': [<matplotlib.lines.Line2D at 0x7fa110142910>],\n",
              " 'whiskers': [<matplotlib.lines.Line2D at 0x7fa11013b390>,\n",
              "  <matplotlib.lines.Line2D at 0x7fa11013b8d0>]}"
            ]
          },
          "metadata": {},
          "execution_count": 8
        },
        {
          "output_type": "display_data",
          "data": {
            "text/plain": [
              "<Figure size 432x288 with 1 Axes>"
            ],
            "image/png": "[encoded data removed]"
          },
          "metadata": {}
        }
      ]
    },
    {
      "cell_type": "code",
      "source": [
        "upper_outlier_value = 1.5*(df['chlorides'].describe()[6]-df['chlorides'].describe()[4]) + df['chlorides'].describe()[6]\n",
        "lower_outlier_value =  df['chlorides'].describe()[4]-1.5*(df['chlorides'].describe()[6]-df['chlorides'].describe()[4])\n",
        "upper_outliers = pd.DataFrame(df.loc[df['chlorides']>upper_outlier_value, 'chlorides'].sort_values(ascending=True))\n",
        "lower_outliers = pd.DataFrame(df.loc[df['chlorides']<lower_outlier_value, 'chlorides'].sort_values(ascending=True))\n",
        "print(f'Upper Outliers:\\n {upper_outliers}')\n",
        "print(f'Lower Outliers:\\n {lower_outliers}')\n",
        "\n",
        "plt.style.use('ggplot')\n",
        "plt.boxplot(df['chlorides'])"
      ],
      "metadata": {
        "colab": {
          "base_uri": "https://localhost:8080/",
          "height": 758
        },
        "id": "nlu8oBLdkJ99",
        "outputId": "34e6e701-373a-4bbc-e8b1-bb147061d25a"
      },
      "execution_count": 9,
      "outputs": [
        {
          "output_type": "stream",
          "name": "stdout",
          "text": [
            "Upper Outliers:\n",
            "       chlorides\n",
            "1020      0.123\n",
            "1423      0.123\n",
            "1258      0.123\n",
            "1252      0.123\n",
            "624       0.124\n",
            "...         ...\n",
            "692       0.422\n",
            "81        0.464\n",
            "106       0.467\n",
            "151       0.610\n",
            "258       0.611\n",
            "\n",
            "[83 rows x 1 columns]\n",
            "Lower Outliers:\n",
            "       chlorides\n",
            "836       0.012\n",
            "695       0.034\n",
            "797       0.038\n",
            "1571      0.038\n"
          ]
        },
        {
          "output_type": "execute_result",
          "data": {
            "text/plain": [
              "{'boxes': [<matplotlib.lines.Line2D at 0x7fa1100ae310>],\n",
              " 'caps': [<matplotlib.lines.Line2D at 0x7fa1100b42d0>,\n",
              "  <matplotlib.lines.Line2D at 0x7fa1100b4810>],\n",
              " 'fliers': [<matplotlib.lines.Line2D at 0x7fa1100bb310>],\n",
              " 'means': [],\n",
              " 'medians': [<matplotlib.lines.Line2D at 0x7fa1100b4d90>],\n",
              " 'whiskers': [<matplotlib.lines.Line2D at 0x7fa1100ae810>,\n",
              "  <matplotlib.lines.Line2D at 0x7fa1100aed50>]}"
            ]
          },
          "metadata": {},
          "execution_count": 9
        },
        {
          "output_type": "display_data",
          "data": {
            "text/plain": [
              "<Figure size 432x288 with 1 Axes>"
            ],
            "image/png": "[encoded data removed]"
          },
          "metadata": {}
        }
      ]
    },
    {
      "cell_type": "code",
      "source": [
        "upper_outlier_value = 1.5*(df['free sulfur dioxide'].describe()[6]-df['free sulfur dioxide'].describe()[4]) + df['free sulfur dioxide'].describe()[6]\n",
        "lower_outlier_value =  df['free sulfur dioxide'].describe()[4]-1.5*(df['free sulfur dioxide'].describe()[6]-df['free sulfur dioxide'].describe()[4])\n",
        "upper_outliers = pd.DataFrame(df.loc[df['free sulfur dioxide']>upper_outlier_value, 'free sulfur dioxide'].sort_values(ascending=True))\n",
        "lower_outliers = pd.DataFrame(df.loc[df['free sulfur dioxide']<lower_outlier_value, 'free sulfur dioxide'].sort_values(ascending=True))\n",
        "print(f'Upper Outliers:\\n {upper_outliers}')\n",
        "print(f'Lower Outliers:\\n {lower_outliers}')\n",
        "\n",
        "plt.style.use('ggplot')\n",
        "plt.boxplot(df['free sulfur dioxide'])"
      ],
      "metadata": {
        "colab": {
          "base_uri": "https://localhost:8080/",
          "height": 945
        },
        "id": "wVYw_QbdkKGZ",
        "outputId": "c3085150-c20a-4a1e-c0cb-e8211dd00647"
      },
      "execution_count": 10,
      "outputs": [
        {
          "output_type": "stream",
          "name": "stdout",
          "text": [
            "Upper Outliers:\n",
            "       free sulfur dioxide\n",
            "1217                 43.0\n",
            "1256                 43.0\n",
            "497                  43.0\n",
            "1075                 45.0\n",
            "1156                 45.0\n",
            "678                  45.0\n",
            "634                  46.0\n",
            "522                  47.0\n",
            "1231                 48.0\n",
            "1474                 48.0\n",
            "1175                 48.0\n",
            "57                   50.0\n",
            "1154                 50.0\n",
            "1295                 51.0\n",
            "982                  51.0\n",
            "15                   51.0\n",
            "1358                 52.0\n",
            "14                   52.0\n",
            "926                  52.0\n",
            "925                  53.0\n",
            "584                  54.0\n",
            "1434                 55.0\n",
            "1131                 57.0\n",
            "1558                 66.0\n",
            "396                  68.0\n",
            "1244                 72.0\n",
            "Lower Outliers:\n",
            " Empty DataFrame\n",
            "Columns: [free sulfur dioxide]\n",
            "Index: []\n"
          ]
        },
        {
          "output_type": "execute_result",
          "data": {
            "text/plain": [
              "{'boxes': [<matplotlib.lines.Line2D at 0x7fa1100a44d0>],\n",
              " 'caps': [<matplotlib.lines.Line2D at 0x7fa11002a490>,\n",
              "  <matplotlib.lines.Line2D at 0x7fa11002a9d0>],\n",
              " 'fliers': [<matplotlib.lines.Line2D at 0x7fa1100324d0>],\n",
              " 'means': [],\n",
              " 'medians': [<matplotlib.lines.Line2D at 0x7fa11002af50>],\n",
              " 'whiskers': [<matplotlib.lines.Line2D at 0x7fa1100a49d0>,\n",
              "  <matplotlib.lines.Line2D at 0x7fa1100a4f10>]}"
            ]
          },
          "metadata": {},
          "execution_count": 10
        },
        {
          "output_type": "display_data",
          "data": {
            "text/plain": [
              "<Figure size 432x288 with 1 Axes>"
            ],
            "image/png": "[encoded data removed]"
          },
          "metadata": {}
        }
      ]
    },
    {
      "cell_type": "code",
      "source": [
        "upper_outlier_value = 1.5*(df['total sulfur dioxide'].describe()[6]-df['total sulfur dioxide'].describe()[4]) + df['total sulfur dioxide'].describe()[6]\n",
        "lower_outlier_value =  df['total sulfur dioxide'].describe()[4]-1.5*(df['total sulfur dioxide'].describe()[6]-df['total sulfur dioxide'].describe()[4])\n",
        "upper_outliers = pd.DataFrame(df.loc[df['total sulfur dioxide']>upper_outlier_value, 'total sulfur dioxide'].sort_values(ascending=True))\n",
        "lower_outliers = pd.DataFrame(df.loc[df['total sulfur dioxide']<lower_outlier_value, 'total sulfur dioxide'].sort_values(ascending=True))\n",
        "print(f'Upper Outliers:\\n {upper_outliers}')\n",
        "print(f'Lower Outliers:\\n {lower_outliers}')\n",
        "df.drop([1079, 1081], inplace=True)\n",
        "\n",
        "plt.style.use('ggplot')\n",
        "plt.boxplot(df['total sulfur dioxide'])"
      ],
      "metadata": {
        "colab": {
          "base_uri": "https://localhost:8080/",
          "height": 1000
        },
        "id": "DfICeYinkKTp",
        "outputId": "5b086889-dde2-4d63-b963-be1a0a7870e7"
      },
      "execution_count": 11,
      "outputs": [
        {
          "output_type": "stream",
          "name": "stdout",
          "text": [
            "Upper Outliers:\n",
            "       total sulfur dioxide\n",
            "88                   125.0\n",
            "694                  125.0\n",
            "192                  126.0\n",
            "723                  127.0\n",
            "190                  127.0\n",
            "155                  128.0\n",
            "463                  129.0\n",
            "154                  129.0\n",
            "791                  130.0\n",
            "1559                 131.0\n",
            "1419                 133.0\n",
            "522                  133.0\n",
            "92                   133.0\n",
            "130                  134.0\n",
            "415                  134.0\n",
            "313                  135.0\n",
            "1131                 135.0\n",
            "86                   136.0\n",
            "741                  139.0\n",
            "90                   140.0\n",
            "145                  141.0\n",
            "1400                 141.0\n",
            "523                  142.0\n",
            "771                  143.0\n",
            "188                  143.0\n",
            "189                  144.0\n",
            "219                  144.0\n",
            "772                  144.0\n",
            "14                   145.0\n",
            "637                  145.0\n",
            "201                  145.0\n",
            "636                  147.0\n",
            "1493                 147.0\n",
            "15                   148.0\n",
            "649                  148.0\n",
            "591                  149.0\n",
            "672                  151.0\n",
            "515                  151.0\n",
            "684                  152.0\n",
            "109                  153.0\n",
            "651                  155.0\n",
            "1244                 160.0\n",
            "354                  165.0\n",
            "1079                 278.0\n",
            "1081                 289.0\n",
            "Lower Outliers:\n",
            " Empty DataFrame\n",
            "Columns: [total sulfur dioxide]\n",
            "Index: []\n"
          ]
        },
        {
          "output_type": "execute_result",
          "data": {
            "text/plain": [
              "{'boxes': [<matplotlib.lines.Line2D at 0x7fa110018d90>],\n",
              " 'caps': [<matplotlib.lines.Line2D at 0x7fa11001ef50>,\n",
              "  <matplotlib.lines.Line2D at 0x7fa10ffad2d0>],\n",
              " 'fliers': [<matplotlib.lines.Line2D at 0x7fa10ffaddd0>],\n",
              " 'means': [],\n",
              " 'medians': [<matplotlib.lines.Line2D at 0x7fa10ffad850>],\n",
              " 'whiskers': [<matplotlib.lines.Line2D at 0x7fa11001e2d0>,\n",
              "  <matplotlib.lines.Line2D at 0x7fa11001e810>]}"
            ]
          },
          "metadata": {},
          "execution_count": 11
        },
        {
          "output_type": "display_data",
          "data": {
            "text/plain": [
              "<Figure size 432x288 with 1 Axes>"
            ],
            "image/png": "[encoded data removed]"
          },
          "metadata": {}
        }
      ]
    },
    {
      "cell_type": "code",
      "source": [
        "upper_outlier_value = 1.5*(df['density'].describe()[6]-df['density'].describe()[4]) + df['density'].describe()[6]\n",
        "lower_outlier_value =  df['density'].describe()[4]-1.5*(df['density'].describe()[6]-df['density'].describe()[4])\n",
        "upper_outliers = pd.DataFrame(df.loc[df['density']>upper_outlier_value, 'density'].sort_values(ascending=True))\n",
        "lower_outliers = pd.DataFrame(df.loc[df['density']<lower_outlier_value, 'density'].sort_values(ascending=True))\n",
        "print(f'Upper Outliers:\\n {upper_outliers}')\n",
        "print(f'Lower Outliers:\\n {lower_outliers}')\n",
        "\n",
        "plt.style.use('ggplot')\n",
        "plt.boxplot(df['density'])"
      ],
      "metadata": {
        "colab": {
          "base_uri": "https://localhost:8080/",
          "height": 1000
        },
        "id": "9tb14pWfkKrT",
        "outputId": "7f6d84fe-8797-4671-9e9c-011b40a4fa18"
      },
      "execution_count": 12,
      "outputs": [
        {
          "output_type": "stream",
          "name": "stdout",
          "text": [
            "Upper Outliers:\n",
            "       density\n",
            "294   1.00140\n",
            "374   1.00140\n",
            "381   1.00140\n",
            "415   1.00140\n",
            "538   1.00140\n",
            "324   1.00150\n",
            "353   1.00180\n",
            "559   1.00210\n",
            "364   1.00220\n",
            "1474  1.00242\n",
            "608   1.00260\n",
            "480   1.00260\n",
            "889   1.00289\n",
            "554   1.00315\n",
            "557   1.00315\n",
            "442   1.00320\n",
            "1434  1.00369\n",
            "Lower Outliers:\n",
            "       density\n",
            "1017  0.99007\n",
            "1114  0.99020\n",
            "836   0.99064\n",
            "1269  0.99080\n",
            "1270  0.99084\n",
            "354   0.99120\n",
            "1126  0.99150\n",
            "821   0.99154\n",
            "1228  0.99157\n",
            "142   0.99160\n",
            "999   0.99162\n",
            "588   0.99170\n",
            "1475  0.99182\n",
            "1477  0.99182\n",
            "1298  0.99191\n",
            "695   0.99210\n",
            "1122  0.99220\n",
            "591   0.99220\n"
          ]
        },
        {
          "output_type": "execute_result",
          "data": {
            "text/plain": [
              "{'boxes': [<matplotlib.lines.Line2D at 0x7fa10ff9e9d0>],\n",
              " 'caps': [<matplotlib.lines.Line2D at 0x7fa10ffa1990>,\n",
              "  <matplotlib.lines.Line2D at 0x7fa10ffa1ed0>],\n",
              " 'fliers': [<matplotlib.lines.Line2D at 0x7fa10ffa99d0>],\n",
              " 'means': [],\n",
              " 'medians': [<matplotlib.lines.Line2D at 0x7fa10ffa9490>],\n",
              " 'whiskers': [<matplotlib.lines.Line2D at 0x7fa10ff9eed0>,\n",
              "  <matplotlib.lines.Line2D at 0x7fa10ffa1450>]}"
            ]
          },
          "metadata": {},
          "execution_count": 12
        },
        {
          "output_type": "display_data",
          "data": {
            "text/plain": [
              "<Figure size 432x288 with 1 Axes>"
            ],
            "image/png": "[encoded data removed]"
          },
          "metadata": {}
        }
      ]
    },
    {
      "cell_type": "code",
      "source": [
        "upper_outlier_value = 1.5*(df['pH'].describe()[6]-df['pH'].describe()[4]) + df['pH'].describe()[6]\n",
        "lower_outlier_value =  df['pH'].describe()[4]-1.5*(df['pH'].describe()[6]-df['pH'].describe()[4])\n",
        "upper_outliers = pd.DataFrame(df.loc[df['pH']>upper_outlier_value, 'pH'].sort_values(ascending=True))\n",
        "lower_outliers = pd.DataFrame(df.loc[df['pH']<lower_outlier_value, 'pH'].sort_values(ascending=True))\n",
        "print(f'Upper Outliers:\\n {upper_outliers}')\n",
        "print(f'Lower Outliers:\\n {lower_outliers}')\n",
        "\n",
        "plt.style.use('ggplot')\n",
        "plt.boxplot(df['pH'])"
      ],
      "metadata": {
        "colab": {
          "base_uri": "https://localhost:8080/",
          "height": 945
        },
        "id": "KMlMOSq2kK11",
        "outputId": "14e334ed-bb6b-44b5-b641-9af2d65b3cb3"
      },
      "execution_count": 13,
      "outputs": [
        {
          "output_type": "stream",
          "name": "stdout",
          "text": [
            "Upper Outliers:\n",
            "         pH\n",
            "930   3.69\n",
            "268   3.69\n",
            "1270  3.70\n",
            "996   3.71\n",
            "1377  3.71\n",
            "821   3.71\n",
            "1488  3.72\n",
            "588   3.72\n",
            "553   3.74\n",
            "94    3.75\n",
            "1111  3.78\n",
            "1300  3.78\n",
            "95    3.85\n",
            "695   3.90\n",
            "45    3.90\n",
            "1316  4.01\n",
            "1321  4.01\n",
            "Lower Outliers:\n",
            "         pH\n",
            "151   2.74\n",
            "544   2.86\n",
            "614   2.87\n",
            "440   2.88\n",
            "1470  2.88\n",
            "650   2.89\n",
            "1017  2.89\n",
            "1319  2.90\n",
            "554   2.92\n",
            "557   2.92\n",
            "657   2.92\n"
          ]
        },
        {
          "output_type": "execute_result",
          "data": {
            "text/plain": [
              "{'boxes': [<matplotlib.lines.Line2D at 0x7fa10ff194d0>],\n",
              " 'caps': [<matplotlib.lines.Line2D at 0x7fa10ff1f490>,\n",
              "  <matplotlib.lines.Line2D at 0x7fa10ff1f9d0>],\n",
              " 'fliers': [<matplotlib.lines.Line2D at 0x7fa10ff284d0>],\n",
              " 'means': [],\n",
              " 'medians': [<matplotlib.lines.Line2D at 0x7fa10ff1ff50>],\n",
              " 'whiskers': [<matplotlib.lines.Line2D at 0x7fa10ff199d0>,\n",
              "  <matplotlib.lines.Line2D at 0x7fa10ff19f10>]}"
            ]
          },
          "metadata": {},
          "execution_count": 13
        },
        {
          "output_type": "display_data",
          "data": {
            "text/plain": [
              "<Figure size 432x288 with 1 Axes>"
            ],
            "image/png": "[encoded data removed]"
          },
          "metadata": {}
        }
      ]
    },
    {
      "cell_type": "code",
      "source": [
        "upper_outlier_value = 1.5*(df['sulphates'].describe()[6]-df['sulphates'].describe()[4]) + df['sulphates'].describe()[6]\n",
        "lower_outlier_value =  df['sulphates'].describe()[4]-1.5*(df['sulphates'].describe()[6]-df['sulphates'].describe()[4])\n",
        "upper_outliers = pd.DataFrame(df.loc[df['sulphates']>upper_outlier_value, 'sulphates'].sort_values(ascending=True))\n",
        "lower_outliers = pd.DataFrame(df.loc[df['sulphates']<lower_outlier_value, 'sulphates'].sort_values(ascending=True))\n",
        "print(f'Upper Outliers:\\n {upper_outliers}')\n",
        "print(f'Lower Outliers:\\n {lower_outliers}')\n",
        "\n",
        "plt.style.use('ggplot')\n",
        "plt.boxplot(df['sulphates'])"
      ],
      "metadata": {
        "colab": {
          "base_uri": "https://localhost:8080/",
          "height": 1000
        },
        "id": "u-LmqfoVkdbG",
        "outputId": "4becfe77-6930-42bf-dd63-b2f416e05fe4"
      },
      "execution_count": 14,
      "outputs": [
        {
          "output_type": "stream",
          "name": "stdout",
          "text": [
            "Upper Outliers:\n",
            "       sulphates\n",
            "338        1.00\n",
            "1408       1.01\n",
            "586        1.02\n",
            "506        1.02\n",
            "181        1.02\n",
            "1371       1.03\n",
            "201        1.03\n",
            "503        1.04\n",
            "372        1.04\n",
            "689        1.05\n",
            "504        1.05\n",
            "482        1.05\n",
            "754        1.06\n",
            "483        1.06\n",
            "477        1.06\n",
            "451        1.06\n",
            "852        1.07\n",
            "415        1.07\n",
            "281        1.08\n",
            "161        1.08\n",
            "19         1.08\n",
            "240        1.09\n",
            "1403       1.10\n",
            "1165       1.10\n",
            "376        1.11\n",
            "79         1.12\n",
            "369        1.13\n",
            "515        1.14\n",
            "83         1.14\n",
            "1260       1.15\n",
            "1158       1.16\n",
            "1288       1.17\n",
            "692        1.17\n",
            "1370       1.17\n",
            "1367       1.18\n",
            "795        1.18\n",
            "340        1.18\n",
            "43         1.20\n",
            "88         1.22\n",
            "258        1.26\n",
            "81         1.28\n",
            "17         1.28\n",
            "106        1.31\n",
            "1319       1.33\n",
            "1051       1.34\n",
            "614        1.36\n",
            "339        1.36\n",
            "639        1.36\n",
            "13         1.56\n",
            "169        1.59\n",
            "226        1.61\n",
            "723        1.62\n",
            "86         1.95\n",
            "92         1.98\n",
            "151        2.00\n",
            "Lower Outliers:\n",
            " Empty DataFrame\n",
            "Columns: [sulphates]\n",
            "Index: []\n"
          ]
        },
        {
          "output_type": "execute_result",
          "data": {
            "text/plain": [
              "{'boxes': [<matplotlib.lines.Line2D at 0x7fa10fe90150>],\n",
              " 'caps': [<matplotlib.lines.Line2D at 0x7fa10fe96110>,\n",
              "  <matplotlib.lines.Line2D at 0x7fa10fe96650>],\n",
              " 'fliers': [<matplotlib.lines.Line2D at 0x7fa10fe9f150>],\n",
              " 'means': [],\n",
              " 'medians': [<matplotlib.lines.Line2D at 0x7fa10fe96bd0>],\n",
              " 'whiskers': [<matplotlib.lines.Line2D at 0x7fa10fe90650>,\n",
              "  <matplotlib.lines.Line2D at 0x7fa10fe90b90>]}"
            ]
          },
          "metadata": {},
          "execution_count": 14
        },
        {
          "output_type": "display_data",
          "data": {
            "text/plain": [
              "<Figure size 432x288 with 1 Axes>"
            ],
            "image/png": "[encoded data removed]"
          },
          "metadata": {}
        }
      ]
    },
    {
      "cell_type": "code",
      "source": [
        "upper_outlier_value = 1.5*(df['alcohol'].describe()[6]-df['alcohol'].describe()[4]) + df['alcohol'].describe()[6]\n",
        "lower_outlier_value =  df['alcohol'].describe()[4]-1.5*(df['alcohol'].describe()[6]-df['alcohol'].describe()[4])\n",
        "upper_outliers = pd.DataFrame(df.loc[df['alcohol']>upper_outlier_value, 'alcohol'].sort_values(ascending=True))\n",
        "lower_outliers = pd.DataFrame(df.loc[df['alcohol']<lower_outlier_value, 'alcohol'].sort_values(ascending=True))\n",
        "print(f'Upper Outliers:\\n {upper_outliers}')\n",
        "print(f'Lower Outliers:\\n {lower_outliers}')\n",
        "\n",
        "plt.style.use('ggplot')\n",
        "plt.boxplot(df['alcohol'])"
      ],
      "metadata": {
        "colab": {
          "base_uri": "https://localhost:8080/",
          "height": 707
        },
        "id": "NbMbFygqkfPV",
        "outputId": "f3fe5924-0152-4c7a-cdb5-7422c082d186"
      },
      "execution_count": 15,
      "outputs": [
        {
          "output_type": "stream",
          "name": "stdout",
          "text": [
            "Upper Outliers:\n",
            "         alcohol\n",
            "1475  13.566667\n",
            "1114  13.600000\n",
            "1132  13.600000\n",
            "1228  13.600000\n",
            "1477  13.600000\n",
            "142   14.000000\n",
            "467   14.000000\n",
            "588   14.000000\n",
            "821   14.000000\n",
            "1269  14.000000\n",
            "1270  14.000000\n",
            "652   14.900000\n",
            "Lower Outliers:\n",
            " Empty DataFrame\n",
            "Columns: [alcohol]\n",
            "Index: []\n"
          ]
        },
        {
          "output_type": "execute_result",
          "data": {
            "text/plain": [
              "{'boxes': [<matplotlib.lines.Line2D at 0x7fa10fe05510>],\n",
              " 'caps': [<matplotlib.lines.Line2D at 0x7fa10fe0c4d0>,\n",
              "  <matplotlib.lines.Line2D at 0x7fa10fe0ca10>],\n",
              " 'fliers': [<matplotlib.lines.Line2D at 0x7fa10fe13510>],\n",
              " 'means': [],\n",
              " 'medians': [<matplotlib.lines.Line2D at 0x7fa10fe0cf90>],\n",
              " 'whiskers': [<matplotlib.lines.Line2D at 0x7fa10fe05a10>,\n",
              "  <matplotlib.lines.Line2D at 0x7fa10fe05f50>]}"
            ]
          },
          "metadata": {},
          "execution_count": 15
        },
        {
          "output_type": "display_data",
          "data": {
            "text/plain": [
              "<Figure size 432x288 with 1 Axes>"
            ],
            "image/png": "[encoded data removed]"
          },
          "metadata": {}
        }
      ]
    },
    {
      "cell_type": "code",
      "source": [
        "upper_outlier_value = 1.5*(df['quality'].describe()[6]-df['quality'].describe()[4]) + df['quality'].describe()[6]\n",
        "lower_outlier_value =  df['quality'].describe()[4]-1.5*(df['quality'].describe()[6]-df['quality'].describe()[4])\n",
        "upper_outliers = pd.DataFrame(df.loc[df['quality']>upper_outlier_value, 'quality'].sort_values(ascending=True))\n",
        "lower_outliers = pd.DataFrame(df.loc[df['quality']<lower_outlier_value, 'quality'].sort_values(ascending=True))\n",
        "print(f'Upper Outliers:\\n {upper_outliers}')\n",
        "print(f'Lower Outliers:\\n {lower_outliers}')\n",
        "\n",
        "plt.style.use('ggplot')\n",
        "plt.boxplot(df['quality'])"
      ],
      "metadata": {
        "colab": {
          "base_uri": "https://localhost:8080/",
          "height": 928
        },
        "id": "VQ39x6bjkfgp",
        "outputId": "11598888-c6b1-4f18-b558-f84f91819a89"
      },
      "execution_count": 16,
      "outputs": [
        {
          "output_type": "stream",
          "name": "stdout",
          "text": [
            "Upper Outliers:\n",
            "       quality\n",
            "267         8\n",
            "1403        8\n",
            "1269        8\n",
            "1202        8\n",
            "1120        8\n",
            "1090        8\n",
            "1061        8\n",
            "1449        8\n",
            "828         8\n",
            "495         8\n",
            "481         8\n",
            "455         8\n",
            "440         8\n",
            "390         8\n",
            "278         8\n",
            "588         8\n",
            "1549        8\n",
            "Lower Outliers:\n",
            "       quality\n",
            "459         3\n",
            "517         3\n",
            "690         3\n",
            "832         3\n",
            "899         3\n",
            "1299        3\n",
            "1374        3\n",
            "1469        3\n",
            "1478        3\n",
            "1505        3\n"
          ]
        },
        {
          "output_type": "execute_result",
          "data": {
            "text/plain": [
              "{'boxes': [<matplotlib.lines.Line2D at 0x7fa10fd82390>],\n",
              " 'caps': [<matplotlib.lines.Line2D at 0x7fa10fd87350>,\n",
              "  <matplotlib.lines.Line2D at 0x7fa10fd87890>],\n",
              " 'fliers': [<matplotlib.lines.Line2D at 0x7fa10fd8e3d0>],\n",
              " 'means': [],\n",
              " 'medians': [<matplotlib.lines.Line2D at 0x7fa10fd87e10>],\n",
              " 'whiskers': [<matplotlib.lines.Line2D at 0x7fa10fd82890>,\n",
              "  <matplotlib.lines.Line2D at 0x7fa10fd82dd0>]}"
            ]
          },
          "metadata": {},
          "execution_count": 16
        },
        {
          "output_type": "display_data",
          "data": {
            "text/plain": [
              "<Figure size 432x288 with 1 Axes>"
            ],
            "image/png": "[encoded data removed]"
          },
          "metadata": {}
        }
      ]
    },
    {
      "cell_type": "markdown",
      "source": [
        "Sources: Geeks for Geeks, statology, w3schools, Learn Platform, towardsDev.com, shishirkant.com, datatofish.com, datasciencemadesimple.com "
      ],
      "metadata": {
        "id": "2srSKBvq5TYe"
      }
    },
    {
      "cell_type": "code",
      "source": [
        "y = df['quality']\n",
        "X = df.drop(columns = 'quality')\n",
        "X_train, X_test, y_train, y_test = train_test_split(X, y, random_state=42)\n"
      ],
      "metadata": {
        "id": "idXJEfvdVMLs"
      },
      "execution_count": 17,
      "outputs": []
    },
    {
      "cell_type": "code",
      "source": [
        "corr = df.corr()\n",
        "sns.heatmap(corr, cmap = 'Greens', annot = True)"
      ],
      "metadata": {
        "colab": {
          "base_uri": "https://localhost:8080/",
          "height": 370
        },
        "id": "GtnTYFUncCOD",
        "outputId": "d7a4acbc-f03b-47e3-9360-537ba40f3539"
      },
      "execution_count": 18,
      "outputs": [
        {
          "output_type": "execute_result",
          "data": {
            "text/plain": [
              "<matplotlib.axes._subplots.AxesSubplot at 0x7fa10fe89b90>"
            ]
          },
          "metadata": {},
          "execution_count": 18
        },
        {
          "output_type": "display_data",
          "data": {
            "text/plain": [
              "<Figure size 432x288 with 2 Axes>"
            ],
            "image/png": "[encoded data removed]"
          },
          "metadata": {}
        }
      ]
    },
    {
      "cell_type": "markdown",
      "source": [
        "From the above correlation plot, we can see that alcohol levels have the highest correlation with quality, followed by sulphates and citric acid.  Additionally, there is a strong correlation of the fixed acidity feature with the density and citric acid features."
      ],
      "metadata": {
        "id": "uYf-NrLncg0P"
      }
    },
    {
      "cell_type": "markdown",
      "source": [
        "Below is an initial decision tree regression model."
      ],
      "metadata": {
        "id": "caJbwD1LrqtL"
      }
    },
    {
      "cell_type": "code",
      "source": [
        "dec_tree = DecisionTreeRegressor(random_state = 42)\n",
        "dec_tree.fit(X_train, y_train)\n",
        "train_preds = dec_tree.predict(X_train)\n",
        "test_preds = dec_tree.predict(X_test)\n",
        "print(f'Model Training MAE: {mean_absolute_error(y_train, train_preds)}')\n",
        "print(f'Model Testing MAE: {mean_absolute_error(y_test, test_preds)}')\n",
        "print(f'Model Training MSE: {mean_squared_error(y_train, train_preds)}')\n",
        "print(f'Model Testing MSE: {mean_squared_error(y_test, test_preds)}')\n",
        "print(f'Model Training RMSE: {np.sqrt(mean_squared_error(y_train, train_preds))}')\n",
        "print(f'Model Testing RMSE: {np.sqrt(mean_squared_error(y_test, test_preds))}')"
      ],
      "metadata": {
        "id": "z5zUD1WcrYJu",
        "outputId": "e1d53a73-fa83-4b8c-ddcf-f57c3bb873a4",
        "colab": {
          "base_uri": "https://localhost:8080/"
        }
      },
      "execution_count": 33,
      "outputs": [
        {
          "output_type": "stream",
          "name": "stdout",
          "text": [
            "Model Training MAE: 0.0\n",
            "Model Testing MAE: 0.6088235294117647\n",
            "Model Training MSE: 0.0\n",
            "Model Testing MSE: 0.8323529411764706\n",
            "Model Training RMSE: 0.0\n",
            "Model Testing RMSE: 0.9123337882466431\n"
          ]
        }
      ]
    },
    {
      "cell_type": "markdown",
      "source": [
        "Now we tune hyperparameters using GridSearchCV."
      ],
      "metadata": {
        "id": "6d1LLX07rtLk"
      }
    },
    {
      "cell_type": "code",
      "source": [
        "dec_tree = DecisionTreeRegressor(random_state = 42)\n",
        "param_grid = {'max_depth': [2, 3, 4, 5, 6, 7],\n",
        "              'min_samples_leaf': [10, 20, 30, 40, 50, 100],\n",
        "              'min_samples_split': [2, 10, 100]}\n",
        "dt_grid_search = GridSearchCV(dec_tree, param_grid)\n",
        "dt_grid_search.fit(X_train, y_train)\n",
        "dt_grid_search.best_params_"
      ],
      "metadata": {
        "colab": {
          "base_uri": "https://localhost:8080/"
        },
        "id": "ZHGjQz89YdXG",
        "outputId": "cd3baa24-5d11-4e68-a6f6-fca35ca8a40f"
      },
      "execution_count": 34,
      "outputs": [
        {
          "output_type": "execute_result",
          "data": {
            "text/plain": [
              "{'max_depth': 6, 'min_samples_leaf': 50, 'min_samples_split': 2}"
            ]
          },
          "metadata": {},
          "execution_count": 34
        }
      ]
    },
    {
      "cell_type": "markdown",
      "source": [
        "Using these optimal parameters, we create an updated,  hypertuned model."
      ],
      "metadata": {
        "id": "MPKX2HhlrwaB"
      }
    },
    {
      "cell_type": "code",
      "source": [
        "dec_tree = DecisionTreeRegressor(max_depth=6, min_samples_leaf = 50, min_samples_split = 2, random_state=42)\n",
        "dec_tree.fit(X_train, y_train)\n",
        "train_preds = dec_tree.predict(X_train)\n",
        "test_preds = dec_tree.predict(X_test)\n",
        "print(f'Model Training MAE: {mean_absolute_error(y_train, train_preds)}')\n",
        "print(f'Model Testing MAE: {mean_absolute_error(y_test, test_preds)}')\n",
        "print(f'Model Training MSE: {mean_squared_error(y_train, train_preds)}')\n",
        "print(f'Model Testing MSE: {mean_squared_error(y_test, test_preds)}')\n",
        "print(f'Model Training RMSE: {np.sqrt(mean_squared_error(y_train, train_preds))}')\n",
        "print(f'Model Testing RMSE: {np.sqrt(mean_squared_error(y_test, test_preds))}')"
      ],
      "metadata": {
        "id": "zUhXz7z2rXhU",
        "outputId": "47d52592-4ad5-42b1-d63e-234d35cddde4",
        "colab": {
          "base_uri": "https://localhost:8080/"
        }
      },
      "execution_count": 35,
      "outputs": [
        {
          "output_type": "stream",
          "name": "stdout",
          "text": [
            "Model Training MAE: 0.4979752026034466\n",
            "Model Testing MAE: 0.4919478543938566\n",
            "Model Training MSE: 0.4234721330021239\n",
            "Model Testing MSE: 0.4242996593792479\n",
            "Model Training RMSE: 0.6507473649598006\n",
            "Model Testing RMSE: 0.6513828823197981\n"
          ]
        }
      ]
    },
    {
      "cell_type": "markdown",
      "source": [
        "This hypertuned model has significantly better MAE, MSE, and RMSE metrics on the testing data."
      ],
      "metadata": {
        "id": "ef1_Kemfr76_"
      }
    },
    {
      "cell_type": "markdown",
      "source": [
        "Below is an initial, basic bagged regression model with metrics."
      ],
      "metadata": {
        "id": "243W0pNpdfYI"
      }
    },
    {
      "cell_type": "code",
      "source": [
        "bagreg = BaggingRegressor(random_state = 42)\n",
        "bagreg.fit(X_train, y_train)\n",
        "train_preds = dec_tree.predict(X_train)\n",
        "test_preds = dec_tree.predict(X_test)\n",
        "print(f'Model Training MAE: {mean_absolute_error(y_train, train_preds)}')\n",
        "print(f'Model Testing MAE: {mean_absolute_error(y_test, test_preds)}')\n",
        "print(f'Model Training MSE: {mean_squared_error(y_train, train_preds)}')\n",
        "print(f'Model Testing MSE: {mean_squared_error(y_test, test_preds)}')\n",
        "print(f'Model Training RMSE: {np.sqrt(mean_squared_error(y_train, train_preds))}')\n",
        "print(f'Model Testing RMSE: {np.sqrt(mean_squared_error(y_test, test_preds))}')"
      ],
      "metadata": {
        "colab": {
          "base_uri": "https://localhost:8080/"
        },
        "id": "0ViQngf7ZSGC",
        "outputId": "381b972b-88fc-42be-8365-b2428195edb7"
      },
      "execution_count": 36,
      "outputs": [
        {
          "output_type": "stream",
          "name": "stdout",
          "text": [
            "Model Training MAE: 0.4979752026034466\n",
            "Model Testing MAE: 0.4919478543938566\n",
            "Model Training MSE: 0.4234721330021239\n",
            "Model Testing MSE: 0.4242996593792479\n",
            "Model Training RMSE: 0.6507473649598006\n",
            "Model Testing RMSE: 0.6513828823197981\n"
          ]
        }
      ]
    },
    {
      "cell_type": "code",
      "source": [
        "bagreg = BaggingRegressor(random_state = 42)\n",
        "param_grid = {'n_estimators': [5, 10, 15, 20, 40, 80, 160],\n",
        "              'max_samples': [1, 4, 8],\n",
        "              'max_features': [1, 4, 8]}\n",
        "dt_grid_search = GridSearchCV(bagreg, param_grid)\n",
        "dt_grid_search.fit(X_train, y_train)\n",
        "dt_grid_search.best_params_"
      ],
      "metadata": {
        "id": "Mx6jALD-6mes",
        "outputId": "a235a82f-8601-45fd-bcb0-d9285672d2e6",
        "colab": {
          "base_uri": "https://localhost:8080/"
        }
      },
      "execution_count": 38,
      "outputs": [
        {
          "output_type": "execute_result",
          "data": {
            "text/plain": [
              "{'max_features': 8, 'max_samples': 8, 'n_estimators': 80}"
            ]
          },
          "metadata": {},
          "execution_count": 38
        }
      ]
    },
    {
      "cell_type": "markdown",
      "source": [
        "Below is the hypertuned Bagged Regression model using GridSearchCV with its metrics."
      ],
      "metadata": {
        "id": "vTXmcGAV8YP_"
      }
    },
    {
      "cell_type": "code",
      "source": [
        "bagreg = BaggingRegressor(n_estimators=80, max_samples = 8, max_features = 8, random_state=42)\n",
        "bagreg.fit(X_train, y_train)\n",
        "train_preds = dec_tree.predict(X_train)\n",
        "test_preds = dec_tree.predict(X_test)\n",
        "print(f'Model Training MAE: {mean_absolute_error(y_train, train_preds)}')\n",
        "print(f'Model Testing MAE: {mean_absolute_error(y_test, test_preds)}')\n",
        "print(f'Model Training MSE: {mean_squared_error(y_train, train_preds)}')\n",
        "print(f'Model Testing MSE: {mean_squared_error(y_test, test_preds)}')\n",
        "print(f'Model Training RMSE: {np.sqrt(mean_squared_error(y_train, train_preds))}')\n",
        "print(f'Model Testing RMSE: {np.sqrt(mean_squared_error(y_test, test_preds))}')"
      ],
      "metadata": {
        "id": "Q85eTsnO5sOW",
        "outputId": "b8123211-ec45-4ebe-de2e-3e4e257dfd24",
        "colab": {
          "base_uri": "https://localhost:8080/"
        }
      },
      "execution_count": 39,
      "outputs": [
        {
          "output_type": "stream",
          "name": "stdout",
          "text": [
            "Model Training MAE: 0.4979752026034466\n",
            "Model Testing MAE: 0.4919478543938566\n",
            "Model Training MSE: 0.4234721330021239\n",
            "Model Testing MSE: 0.4242996593792479\n",
            "Model Training RMSE: 0.6507473649598006\n",
            "Model Testing RMSE: 0.6513828823197981\n"
          ]
        }
      ]
    },
    {
      "cell_type": "code",
      "source": [
        "plt.scatter(df['alcohol'],df['quality'])\n",
        "plt.xlabel(\"alcohol\")\n",
        "plt.ylabel(\"quality\")"
      ],
      "metadata": {
        "id": "vMB4rkNhasYb",
        "outputId": "55c906fd-d8cc-4fd7-99fd-d993d59a1114",
        "colab": {
          "base_uri": "https://localhost:8080/",
          "height": 299
        }
      },
      "execution_count": 21,
      "outputs": [
        {
          "output_type": "execute_result",
          "data": {
            "text/plain": [
              "Text(0, 0.5, 'quality')"
            ]
          },
          "metadata": {},
          "execution_count": 21
        },
        {
          "output_type": "display_data",
          "data": {
            "text/plain": [
              "<Figure size 432x288 with 1 Axes>"
            ],
            "image/png": "[encoded data removed]"
          },
          "metadata": {}
        }
      ]
    },
    {
      "cell_type": "markdown",
      "source": [
        "From here we can see that generally speaking, higher alcohol levels correspond to higher quality ratings.  Using this information, perhaps a stakeholder would decide to invest more resources into the fermentation process of wine in order to produce higher alcoholic levels and therefor a higher quality wine to be sold."
      ],
      "metadata": {
        "id": "BZ-4wYkq9Hxi"
      }
    },
    {
      "cell_type": "code",
      "source": [
        "plt.scatter(df['fixed acidity'],df['density'])\n",
        "plt.xlabel(\"fixed acidity\")\n",
        "plt.ylabel(\"density\")"
      ],
      "metadata": {
        "id": "j89b994M8kJu",
        "outputId": "af64537b-8ca5-4fc5-a2dd-241f12000ca2",
        "colab": {
          "base_uri": "https://localhost:8080/",
          "height": 299
        }
      },
      "execution_count": 22,
      "outputs": [
        {
          "output_type": "execute_result",
          "data": {
            "text/plain": [
              "Text(0, 0.5, 'density')"
            ]
          },
          "metadata": {},
          "execution_count": 22
        },
        {
          "output_type": "display_data",
          "data": {
            "text/plain": [
              "<Figure size 432x288 with 1 Axes>"
            ],
            "image/png": "[encoded data removed]"
          },
          "metadata": {}
        }
      ]
    },
    {
      "cell_type": "markdown",
      "source": [
        "From this graph, we can see that there is a strong positive correlation between fixed acidity levels and the density of the wine.  In terms of practical application, if a stakeholder wanted to decrease a wine's density for various reasons, they could begin by taking a look at how to reduce fixed acidity levels due to this correlation."
      ],
      "metadata": {
        "id": "jmVRueF-9bLj"
      }
    },
    {
      "cell_type": "code",
      "source": [
        "X = df.drop(columns = 'quality')\n",
        "# Encode our target\n",
        "y = df['quality']\n",
        "# Instantiate Standard Scaler\n",
        "scaler = StandardScaler()\n",
        "# Fit & transform data.\n",
        "scaled_df = scaler.fit_transform(X)\n",
        "pca = PCA()\n",
        "pca.fit(scaled_df)"
      ],
      "metadata": {
        "id": "fsped7yq9FQa",
        "outputId": "b0cafb3c-d427-4711-d112-64cdff51c5e8",
        "colab": {
          "base_uri": "https://localhost:8080/",
          "height": 74
        }
      },
      "execution_count": 23,
      "outputs": [
        {
          "output_type": "execute_result",
          "data": {
            "text/plain": [
              "PCA()"
            ],
            "text/html": [
              "<style>#sk-57fecfe9-118e-4da4-b08d-c9cd599c5f07 {color: black;background-color: white;}#sk-57fecfe9-118e-4da4-b08d-c9cd599c5f07 pre{padding: 0;}#sk-57fecfe9-118e-4da4-b08d-c9cd599c5f07 div.sk-toggleable {background-color: white;}#sk-57fecfe9-118e-4da4-b08d-c9cd599c5f07 label.sk-toggleable__label {cursor: pointer;display: block;width: 100%;margin-bottom: 0;padding: 0.3em;box-sizing: border-box;text-align: center;}#sk-57fecfe9-118e-4da4-b08d-c9cd599c5f07 label.sk-toggleable__label-arrow:before {content: \"▸\";float: left;margin-right: 0.25em;color: #696969;}#sk-57fecfe9-118e-4da4-b08d-c9cd599c5f07 label.sk-toggleable__label-arrow:hover:before {color: black;}#sk-57fecfe9-118e-4da4-b08d-c9cd599c5f07 div.sk-estimator:hover label.sk-toggleable__label-arrow:before {color: black;}#sk-57fecfe9-118e-4da4-b08d-c9cd599c5f07 div.sk-toggleable__content {max-height: 0;max-width: 0;overflow: hidden;text-align: left;background-color: #f0f8ff;}#sk-57fecfe9-118e-4da4-b08d-c9cd599c5f07 div.sk-toggleable__content pre {margin: 0.2em;color: black;border-radius: 0.25em;background-color: #f0f8ff;}#sk-57fecfe9-118e-4da4-b08d-c9cd599c5f07 input.sk-toggleable__control:checked~div.sk-toggleable__content {max-height: 200px;max-width: 100%;overflow: auto;}#sk-57fecfe9-118e-4da4-b08d-c9cd599c5f07 input.sk-toggleable__control:checked~label.sk-toggleable__label-arrow:before {content: \"▾\";}#sk-57fecfe9-118e-4da4-b08d-c9cd599c5f07 div.sk-estimator input.sk-toggleable__control:checked~label.sk-toggleable__label {background-color: #d4ebff;}#sk-57fecfe9-118e-4da4-b08d-c9cd599c5f07 div.sk-label input.sk-toggleable__control:checked~label.sk-toggleable__label {background-color: #d4ebff;}#sk-57fecfe9-118e-4da4-b08d-c9cd599c5f07 input.sk-hidden--visually {border: 0;clip: rect(1px 1px 1px 1px);clip: rect(1px, 1px, 1px, 1px);height: 1px;margin: -1px;overflow: hidden;padding: 0;position: absolute;width: 1px;}#sk-57fecfe9-118e-4da4-b08d-c9cd599c5f07 div.sk-estimator {font-family: monospace;background-color: #f0f8ff;border: 1px dotted black;border-radius: 0.25em;box-sizing: border-box;margin-bottom: 0.5em;}#sk-57fecfe9-118e-4da4-b08d-c9cd599c5f07 div.sk-estimator:hover {background-color: #d4ebff;}#sk-57fecfe9-118e-4da4-b08d-c9cd599c5f07 div.sk-parallel-item::after {content: \"\";width: 100%;border-bottom: 1px solid gray;flex-grow: 1;}#sk-57fecfe9-118e-4da4-b08d-c9cd599c5f07 div.sk-label:hover label.sk-toggleable__label {background-color: #d4ebff;}#sk-57fecfe9-118e-4da4-b08d-c9cd599c5f07 div.sk-serial::before {content: \"\";position: absolute;border-left: 1px solid gray;box-sizing: border-box;top: 2em;bottom: 0;left: 50%;}#sk-57fecfe9-118e-4da4-b08d-c9cd599c5f07 div.sk-serial {display: flex;flex-direction: column;align-items: center;background-color: white;padding-right: 0.2em;padding-left: 0.2em;}#sk-57fecfe9-118e-4da4-b08d-c9cd599c5f07 div.sk-item {z-index: 1;}#sk-57fecfe9-118e-4da4-b08d-c9cd599c5f07 div.sk-parallel {display: flex;align-items: stretch;justify-content: center;background-color: white;}#sk-57fecfe9-118e-4da4-b08d-c9cd599c5f07 div.sk-parallel::before {content: \"\";position: absolute;border-left: 1px solid gray;box-sizing: border-box;top: 2em;bottom: 0;left: 50%;}#sk-57fecfe9-118e-4da4-b08d-c9cd599c5f07 div.sk-parallel-item {display: flex;flex-direction: column;position: relative;background-color: white;}#sk-57fecfe9-118e-4da4-b08d-c9cd599c5f07 div.sk-parallel-item:first-child::after {align-self: flex-end;width: 50%;}#sk-57fecfe9-118e-4da4-b08d-c9cd599c5f07 div.sk-parallel-item:last-child::after {align-self: flex-start;width: 50%;}#sk-57fecfe9-118e-4da4-b08d-c9cd599c5f07 div.sk-parallel-item:only-child::after {width: 0;}#sk-57fecfe9-118e-4da4-b08d-c9cd599c5f07 div.sk-dashed-wrapped {border: 1px dashed gray;margin: 0 0.4em 0.5em 0.4em;box-sizing: border-box;padding-bottom: 0.4em;background-color: white;position: relative;}#sk-57fecfe9-118e-4da4-b08d-c9cd599c5f07 div.sk-label label {font-family: monospace;font-weight: bold;background-color: white;display: inline-block;line-height: 1.2em;}#sk-57fecfe9-118e-4da4-b08d-c9cd599c5f07 div.sk-label-container {position: relative;z-index: 2;text-align: center;}#sk-57fecfe9-118e-4da4-b08d-c9cd599c5f07 div.sk-container {/* jupyter's `normalize.less` sets `[hidden] { display: none; }` but bootstrap.min.css set `[hidden] { display: none !important; }` so we also need the `!important` here to be able to override the default hidden behavior on the sphinx rendered scikit-learn.org. See: https://github.com/scikit-learn/scikit-learn/issues/21755 */display: inline-block !important;position: relative;}#sk-57fecfe9-118e-4da4-b08d-c9cd599c5f07 div.sk-text-repr-fallback {display: none;}</style><div id=\"sk-57fecfe9-118e-4da4-b08d-c9cd599c5f07\" class=\"sk-top-container\"><div class=\"sk-text-repr-fallback\"><pre>PCA()</pre><b>Please rerun this cell to show the HTML repr or trust the notebook.</b></div><div class=\"sk-container\" hidden><div class=\"sk-item\"><div class=\"sk-estimator sk-toggleable\"><input class=\"sk-toggleable__control sk-hidden--visually\" id=\"c85f248a-02c9-4666-89c6-39a855c3f103\" type=\"checkbox\" checked><label for=\"c85f248a-02c9-4666-89c6-39a855c3f103\" class=\"sk-toggleable__label sk-toggleable__label-arrow\">PCA</label><div class=\"sk-toggleable__content\"><pre>PCA()</pre></div></div></div></div></div>"
            ]
          },
          "metadata": {},
          "execution_count": 23
        }
      ]
    },
    {
      "cell_type": "code",
      "source": [
        "plt.plot(range(1, 12), pca.explained_variance_ratio_.cumsum(), marker= '.')\n",
        "plt.xticks(ticks=range(1,12), fontsize=8);"
      ],
      "metadata": {
        "id": "Q0g0qgtvEFFj",
        "outputId": "c5d6c6a8-87ed-4642-8154-4f11566a89da",
        "colab": {
          "base_uri": "https://localhost:8080/",
          "height": 264
        }
      },
      "execution_count": 24,
      "outputs": [
        {
          "output_type": "display_data",
          "data": {
            "text/plain": [
              "<Figure size 432x288 with 1 Axes>"
            ],
            "image/png": "[encoded data removed]"
          },
          "metadata": {}
        }
      ]
    },
    {
      "cell_type": "markdown",
      "source": [
        "It appears there is a slight elbow at 9 components, so we can use 9 as our PCA value."
      ],
      "metadata": {
        "id": "0Whrf5E5FWPW"
      }
    },
    {
      "cell_type": "code",
      "source": [
        "plt.plot(range(1, 12), pca.explained_variance_ratio_, marker = '.')\n",
        "plt.xticks(ticks = range(1, 12), fontsize=8)\n",
        "plt.xlabel('Principal Component')\n",
        "plt.ylabel('Proportion of Explained Variance')"
      ],
      "metadata": {
        "id": "NppjaMqNEF1O",
        "outputId": "c3e90ae7-3b51-4396-e037-afe82ae0f904",
        "colab": {
          "base_uri": "https://localhost:8080/",
          "height": 298
        }
      },
      "execution_count": 25,
      "outputs": [
        {
          "output_type": "execute_result",
          "data": {
            "text/plain": [
              "Text(0, 0.5, 'Proportion of Explained Variance')"
            ]
          },
          "metadata": {},
          "execution_count": 25
        },
        {
          "output_type": "display_data",
          "data": {
            "text/plain": [
              "<Figure size 432x288 with 1 Axes>"
            ],
            "image/png": "[encoded data removed]"
          },
          "metadata": {}
        }
      ]
    },
    {
      "cell_type": "markdown",
      "source": [
        "This plot shows a definite flatness of slope at the 6th component, so we will actually choose our number of compnents to be 6 since after that, the slopes are flatter than before indicating that components beyond six explain less variance."
      ],
      "metadata": {
        "id": "A2wrgCFmFnua"
      }
    },
    {
      "cell_type": "code",
      "source": [
        "pca6 = PCA(n_components=6)\n",
        "transformer = make_pipeline(StandardScaler(), pca6)\n",
        "dec_tree = DecisionTreeRegressor(random_state = 42)\n",
        "dec_tree_pipe = make_pipeline(transformer, dec_tree)\n",
        "dec_tree_pipe.fit(X_train, y_train)\n",
        "train_preds = dec_tree_pipe.predict(X_train)\n",
        "test_preds = dec_tree_pipe.predict(X_test)\n",
        "train_score = dec_tree_pipe.score(X_train, y_train)\n",
        "test_score = dec_tree_pipe.score(X_test, y_test)\n",
        "#print(train_score)\n",
        "#print(test_score)\n",
        "# List of values to try for max_depth:\n",
        "depths = list(range(2, 20)) # will try every value between 2 and 20\n",
        "# Data frame to store the score for each value of max_depth:\n",
        "scores = pd.DataFrame(index=depths, columns=['Test Score','Train Score'])\n",
        "for depth in depths:\n",
        "    dec_tree = DecisionTreeRegressor(max_depth=depth, random_state=42)\n",
        "    transformer = make_pipeline(StandardScaler(), PCA(n_components=6))\n",
        "    dec_tree_pipe = make_pipeline(transformer, dec_tree)\n",
        "    dec_tree_pipe.fit(X_train, y_train)\n",
        "    train_score = dec_tree_pipe.score(X_test, y_test)\n",
        "    test_score = dec_tree_pipe.score(X_test, y_test)\n",
        "    scores.loc[depth, 'Train Score'] = train_score\n",
        "    scores.loc[depth, 'Test Score'] = test_score\n",
        "\n",
        "plt.plot(depths, scores['Test Score'])\n",
        "plt.xlabel('max_depth')\n",
        "plt.ylabel('R2');\n",
        "\n",
        "#print(scores)\n",
        "dec_tree = DecisionTreeRegressor(max_depth=3, random_state=42)\n",
        "dec_tree_pipe = make_pipeline(transformer, dec_tree)\n",
        "dec_tree_pipe.fit(X_train, y_train)\n",
        "train_preds = dec_tree_pipe.predict(X_train)\n",
        "test_preds = dec_tree_pipe.predict(X_test)\n",
        "print(f'Model Training MAE: {mean_absolute_error(y_train, train_preds)}')\n",
        "print(f'Model Testing MAE: {mean_absolute_error(y_test, test_preds)}')\n",
        "print(f'Model Training MSE: {mean_squared_error(y_train, train_preds)}')\n",
        "print(f'Model Testing MSE: {mean_squared_error(y_test, test_preds)}')\n",
        "print(f'Model Training RMSE: {np.sqrt(mean_squared_error(y_train, train_preds))}')\n",
        "print(f'Model Testing RMSE: {np.sqrt(mean_squared_error(y_test, test_preds))}')\n"
      ],
      "metadata": {
        "id": "79TdubGcFgsK",
        "outputId": "7f3cb2e1-a454-4e6e-d2a5-dd7243221e99",
        "colab": {
          "base_uri": "https://localhost:8080/",
          "height": 384
        }
      },
      "execution_count": 26,
      "outputs": [
        {
          "output_type": "stream",
          "name": "stdout",
          "text": [
            "Model Training MAE: 0.5524611682642856\n",
            "Model Testing MAE: 0.553665883458907\n",
            "Model Training MSE: 0.47145060785541615\n",
            "Model Testing MSE: 0.4662266921947055\n",
            "Model Training RMSE: 0.6866226094845815\n",
            "Model Testing RMSE: 0.6828079467864339\n"
          ]
        },
        {
          "output_type": "display_data",
          "data": {
            "text/plain": [
              "<Figure size 432x288 with 1 Axes>"
            ],
            "image/png": "[encoded data removed]"
          },
          "metadata": {}
        }
      ]
    },
    {
      "cell_type": "markdown",
      "source": [
        "From this graph, we can see that the highest R^2 value for the decision tree model with PCA is found using a depth of 3."
      ],
      "metadata": {
        "id": "dXW0WjRjJXOA"
      }
    },
    {
      "cell_type": "markdown",
      "source": [
        "My final production model of choice is the tuned bagged regression model without PCA. This is beacuse it has overall the lowest regression error metrics when compared to the other models.  In particular, its training and testing mean absolute errors are lower than both of these metrics for the tuned decision tree and PCA bagged regression models.  Furthermore, the Mean Squared Error metrics for the bagged regression model without PCA is lower than the same metrics for the other two.  Thus, due to lower error values, this model is the best for production."
      ],
      "metadata": {
        "id": "3NFPgeFNd-Rh"
      }
    },
    {
      "cell_type": "code",
      "source": [
        ""
      ],
      "metadata": {
        "id": "F9ogJEeFfJ3G"
      },
      "execution_count": null,
      "outputs": []
    }
  ]
}